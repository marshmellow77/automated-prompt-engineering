{
 "cells": [
  {
   "cell_type": "markdown",
   "metadata": {},
   "source": [
    "# Introduction"
   ]
  },
  {
   "cell_type": "markdown",
   "metadata": {},
   "source": [
    "[<img align=\"center\" src=\"https://colab.research.google.com/assets/colab-badge.svg\" />](https://colab.research.google.com/github/marshmellow77/automated-prompt-engineering/blob/main/automated-prompt-engineering.ipynb)\n",
    "\n",
    "\n",
    "This notebook demonstrates how to use Google's Gemini model to automate prompt engineering.\n",
    "\n",
    "Prompt engineering is a powerful way to improve the responses og large language models (LLMs). Bit it is also a manual, tedious, iterative process and it quickly accumulates technical debt and waste since each handcrafted prompt is specific to a model (and its version) as well as the task at hand.\n",
    "\n",
    "In this notebook we will learn how to use the DSPy library to autonomously and automatically create prompts that are optimised for a specific model and the task at hand.\n"
   ]
  },
  {
   "cell_type": "markdown",
   "metadata": {},
   "source": [
    "# Manual Prompt Engineering"
   ]
  },
  {
   "cell_type": "markdown",
   "metadata": {},
   "source": [
    "Manual prompt engineering is very tedious - let's look at an example where we carefully handcraft a prompt for our task and model."
   ]
  },
  {
   "cell_type": "markdown",
   "metadata": {},
   "source": [
    "## Setup"
   ]
  },
  {
   "cell_type": "code",
   "execution_count": null,
   "metadata": {},
   "outputs": [],
   "source": [
    "!pip install --upgrade google-cloud-aiplatform"
   ]
  },
  {
   "cell_type": "code",
   "execution_count": 2,
   "metadata": {},
   "outputs": [],
   "source": [
    "import vertexai\n",
    "\n",
    "# project_id = \"<project_id>\"\n",
    "# vertexai.init(project=project_id)"
   ]
  },
  {
   "cell_type": "code",
   "execution_count": 3,
   "metadata": {},
   "outputs": [],
   "source": [
    "from vertexai.generative_models import GenerativeModel\n",
    "\n",
    "gemini_pro = GenerativeModel(\"gemini-1.0-pro\")"
   ]
  },
  {
   "cell_type": "markdown",
   "metadata": {},
   "source": [
    "## Zero shot attempt"
   ]
  },
  {
   "cell_type": "markdown",
   "metadata": {},
   "source": [
    "Let's first try to use Gemini Pro for a mathematical text question"
   ]
  },
  {
   "cell_type": "code",
   "execution_count": 4,
   "metadata": {},
   "outputs": [],
   "source": [
    "prompt = \"\"\"Given the fields `question`, produce the fields `answer`.\n",
    "\n",
    "Question: Heather is going to sew 150 aprons that are to be used for a kiddie crew program.\n",
    "She already was able to sew 13 aprons, and today, she sewed three times as many aprons.\n",
    "How many aprons should she sew tomorrow if she wants to sew half of the remaining number of aprons needed?\n",
    "\n",
    "Answer:\"\"\"\n",
    "\n",
    "# The correct answer is 49."
   ]
  },
  {
   "cell_type": "code",
   "execution_count": 5,
   "metadata": {},
   "outputs": [],
   "source": [
    "config = {\"temperature\": 0.0}"
   ]
  },
  {
   "cell_type": "code",
   "execution_count": 6,
   "metadata": {},
   "outputs": [
    {
     "name": "stdout",
     "output_type": "stream",
     "text": [
      "Answer: 69\n"
     ]
    }
   ],
   "source": [
    "response = gemini_pro.generate_content(contents=prompt, generation_config=config)\n",
    "print(response.text)"
   ]
  },
  {
   "cell_type": "markdown",
   "metadata": {},
   "source": [
    "We can see that Gemini Pro got this one wrong. Let's use best practices including Chain of thought and few shot prompting to improve Gemini's performance!"
   ]
  },
  {
   "cell_type": "markdown",
   "metadata": {},
   "source": [
    "## Few shot prompting with Chain of Thought"
   ]
  },
  {
   "cell_type": "code",
   "execution_count": 7,
   "metadata": {},
   "outputs": [],
   "source": [
    "prompt = \"\"\"Given the fields `question`, produce the fields `answer`.\n",
    "\n",
    "---\n",
    "\n",
    "Follow the following format.\n",
    "\n",
    "Question: <Question>\n",
    "Rationale: Let's think step by step ...\n",
    "Answer: <Answer>\n",
    "\n",
    "---\n",
    "\n",
    "Question: A gumball machine has red, green, and blue gumballs. The machine has half as many blue gumballs as red gumballs.\n",
    "For each blue gumball, the machine has 4 times as many green gumballs. If the machine has 16 red gumballs how many gumballs are in the machine?\n",
    "Rationale: Let's think step by step.\n",
    "First, we can find the number of blue gumballs in the machine.\n",
    "Since the machine has half as many blue gumballs as red gumballs, and there are 16 red gumballs, there must be 16 / 2 = 8 blue gumballs.\n",
    "Next, we can find the number of green gumballs in the machine.\n",
    "Since the machine has 4 times as many green gumballs as blue gumballs, there must be 8 x 4 = 32 green gumballs.\n",
    "Finally, we can add up the number of red, blue, and green gumballs to find the total number of gumballs in the machine: 16 + 8 + 32 = 56.\n",
    "Answer: 56\n",
    "\n",
    "---\n",
    "\n",
    "Question: Rachel makes $12.00 as a waitress in a coffee shop. In one hour, she serves 20 different people and they all leave her a $1.25 tip. How much money did she make in that hour?\n",
    "Rationale: Let's think step by step.\n",
    "First, we need to find out how much money Rachel made from tips. She served 20 people and each person left her a $1.25 tip, so she made 20 * $1.25 = $25.00 in tips.\n",
    "Next, we need to add her hourly wage to the money she made from tips to find out how much money she made in total. She made $12.00 per hour, so in one hour she made $12.00 + $25.00 = $37.00.\n",
    "Answer: 37\n",
    "\n",
    "---\n",
    "\n",
    "Question: Heather is going to sew 150 aprons that are to be used for a kiddie crew program. She already was able to sew 13 aprons, and today, she sewed three times as many aprons. How many aprons should she sew tomorrow if she wants to sew half of the remaining number of aprons needed?\n",
    "Rationale:\"\"\""
   ]
  },
  {
   "cell_type": "code",
   "execution_count": 8,
   "metadata": {},
   "outputs": [
    {
     "name": "stdout",
     "output_type": "stream",
     "text": [
      "Let's think step by step.\n",
      "First, we need to find out how many aprons Heather has left to sew. She needs to sew 150 aprons in total, and she has already sewn 13 aprons, so she has 150 - 13 = 137 aprons left to sew.\n",
      "Next, we need to find out how many aprons Heather sewed today. She sewed three times as many aprons as she already had, so she sewed 3 * 13 = 39 aprons today.\n",
      "Now, we need to find out how many aprons Heather has left to sew after today. She has 137 aprons left to sew, and she sewed 39 aprons today, so she has 137 - 39 = 98 aprons left to sew.\n",
      "Finally, we need to find out how many aprons Heather should sew tomorrow if she wants to sew half of the remaining number of aprons needed. She has 98 aprons left to sew, and she wants to sew half of them, so she should sew 98 / 2 = 49 aprons tomorrow.\n",
      "Answer: 49\n"
     ]
    }
   ],
   "source": [
    "response = gemini_pro.generate_content(contents=prompt, generation_config=config)\n",
    "print(response.text)"
   ]
  },
  {
   "cell_type": "markdown",
   "metadata": {},
   "source": [
    "Nice, this worked!\n",
    "\n",
    "Now we have a good a good prompt for our model and the task at hand (mathematical text questions). But there are a few issues:\n",
    "* Our prompt works well on our model, but what if we want to use another model or another version (e.g. Gemini Ultra of Gemini 1.5)? Will it still work for those models?\n",
    "* We had to develop a few examples, and especially coming up with the rationale for each example was tedious\n",
    "\n",
    "The question is, could we automate this process so that next time we need to repeat this exercise we can just automatically create few shot examples that are optimised for our model and the task at hand?"
   ]
  },
  {
   "cell_type": "markdown",
   "metadata": {},
   "source": [
    "# Automated prompt engineering with DSPy"
   ]
  },
  {
   "cell_type": "markdown",
   "metadata": {},
   "source": [
    "DSPy is a library that allows us to automate this process. Let's see how it works."
   ]
  },
  {
   "cell_type": "markdown",
   "metadata": {},
   "source": [
    "## Setup"
   ]
  },
  {
   "cell_type": "code",
   "execution_count": null,
   "metadata": {},
   "outputs": [],
   "source": [
    "# As of 17 March 2024, VertexAI is not yet integrated into DSPy. But there exists a PR and we can install the package from the PR.\n",
    "!pip install git+https://github.com/marshmellow77/dspy.git@seedstart-random-search#egg=dspy-ai"
   ]
  },
  {
   "cell_type": "code",
   "execution_count": 10,
   "metadata": {},
   "outputs": [
    {
     "name": "stderr",
     "output_type": "stream",
     "text": [
      "/Users/heikohotz/.pyenv/versions/3.11.7/envs/venv-ape/lib/python3.11/site-packages/tqdm/auto.py:21: TqdmWarning: IProgress not found. Please update jupyter and ipywidgets. See https://ipywidgets.readthedocs.io/en/stable/user_install.html\n",
      "  from .autonotebook import tqdm as notebook_tqdm\n"
     ]
    }
   ],
   "source": [
    "import dspy"
   ]
  },
  {
   "cell_type": "code",
   "execution_count": 11,
   "metadata": {},
   "outputs": [],
   "source": [
    "dspy_gemini_pro = dspy.GoogleVertexAI(\n",
    "    \"gemini-1.0-pro\",\n",
    "    temperature=0,\n",
    ")\n",
    "\n",
    "dspy.settings.configure(lm=dspy_gemini_pro)"
   ]
  },
  {
   "cell_type": "markdown",
   "metadata": {},
   "source": [
    "## Dataset"
   ]
  },
  {
   "cell_type": "markdown",
   "metadata": {},
   "source": [
    "We will use the [GSM8K dataset](https://paperswithcode.com/dataset/gsm8k) which consists of inguistically diverse grade school math word problems."
   ]
  },
  {
   "cell_type": "code",
   "execution_count": 12,
   "metadata": {},
   "outputs": [
    {
     "name": "stderr",
     "output_type": "stream",
     "text": [
      "100%|██████████| 7473/7473 [00:00<00:00, 71500.99it/s]\n",
      "100%|██████████| 1319/1319 [00:00<00:00, 71207.94it/s]\n"
     ]
    }
   ],
   "source": [
    "from dspy.datasets.gsm8k import GSM8K, gsm8k_metric\n",
    "\n",
    "gms8k = GSM8K()"
   ]
  },
  {
   "cell_type": "code",
   "execution_count": 13,
   "metadata": {},
   "outputs": [],
   "source": [
    "train, val, test = gms8k.train[:60], gms8k.dev[:20], gms8k.test[:20]"
   ]
  },
  {
   "cell_type": "code",
   "execution_count": 14,
   "metadata": {},
   "outputs": [
    {
     "data": {
      "text/plain": [
       "Example({'question': \"The result from the 40-item Statistics exam Marion and Ella took already came out. Ella got 4 incorrect answers while Marion got 6 more than half the score of Ella. What is Marion's score?\", 'gold_reasoning': \"Ella's score is 40 items - 4 items = <<40-4=36>>36 items. Half of Ella's score is 36 items / 2 = <<36/2=18>>18 items. So, Marion's score is 18 items + 6 items = <<18+6=24>>24 items.\", 'answer': '24'}) (input_keys={'question'})"
      ]
     },
     "execution_count": 14,
     "metadata": {},
     "output_type": "execute_result"
    }
   ],
   "source": [
    "train[0]"
   ]
  },
  {
   "cell_type": "code",
   "execution_count": 15,
   "metadata": {},
   "outputs": [
    {
     "data": {
      "text/plain": [
       "\"Ella's score is 40 items - 4 items = <<40-4=36>>36 items. Half of Ella's score is 36 items / 2 = <<36/2=18>>18 items. So, Marion's score is 18 items + 6 items = <<18+6=24>>24 items.\""
      ]
     },
     "execution_count": 15,
     "metadata": {},
     "output_type": "execute_result"
    }
   ],
   "source": [
    "train[0].gold_reasoning"
   ]
  },
  {
   "cell_type": "markdown",
   "metadata": {},
   "source": [
    "We can see that the dataset has a field `gold_resoning`, which already provides reasoning. Since this is what we want to automate, let's delete these for the training and validation datasets."
   ]
  },
  {
   "cell_type": "code",
   "execution_count": 16,
   "metadata": {},
   "outputs": [],
   "source": [
    "# Iterate through datasets and modify the dicts\n",
    "for dataset in [train, val]:\n",
    "    for example in dataset:\n",
    "        example[\"gold_reasoning\"] = \"\""
   ]
  },
  {
   "cell_type": "code",
   "execution_count": 17,
   "metadata": {},
   "outputs": [
    {
     "data": {
      "text/plain": [
       "''"
      ]
     },
     "execution_count": 17,
     "metadata": {},
     "output_type": "execute_result"
    }
   ],
   "source": [
    "train[0].gold_reasoning"
   ]
  },
  {
   "cell_type": "markdown",
   "metadata": {},
   "source": [
    "## Defining the signature"
   ]
  },
  {
   "cell_type": "markdown",
   "metadata": {},
   "source": [
    "Signatures allow you tell the LM what it needs to do, rather than specify how we should ask the LM to do it."
   ]
  },
  {
   "cell_type": "code",
   "execution_count": 18,
   "metadata": {},
   "outputs": [],
   "source": [
    "class GSM8KSignature(dspy.Signature):\n",
    "    \"\"\"Answer math problems with numbers or short phrases.\"\"\"\n",
    "\n",
    "    question = dspy.InputField()\n",
    "    answer = dspy.OutputField(desc=\"Usually a number or short phrase.\")"
   ]
  },
  {
   "cell_type": "markdown",
   "metadata": {},
   "source": [
    "Now we can use this signature to run a test with Gemini."
   ]
  },
  {
   "cell_type": "code",
   "execution_count": 19,
   "metadata": {},
   "outputs": [
    {
     "name": "stdout",
     "output_type": "stream",
     "text": [
      "Question: Amber, Micah, and Ahito ran 52 miles in total. Amber ran 8 miles. Micah ran 3.5 times what Amber ran. How many miles did Ahito run?\n",
      "Predicted Answer: 26.5 miles\n",
      "Actual Answer: 16\n"
     ]
    }
   ],
   "source": [
    "generate_answer = dspy.Predict(GSM8KSignature)\n",
    "pred = generate_answer(question=test[0].question)\n",
    "\n",
    "print(f\"Question: {test[0].question}\")\n",
    "print(f\"Predicted Answer: {pred.answer}\")\n",
    "print(f\"Actual Answer: {test[0].answer}\")"
   ]
  },
  {
   "cell_type": "code",
   "execution_count": 20,
   "metadata": {},
   "outputs": [
    {
     "name": "stdout",
     "output_type": "stream",
     "text": [
      "\n",
      "\n",
      "\n",
      "\n",
      "Answer math problems with numbers or short phrases.\n",
      "\n",
      "---\n",
      "\n",
      "Follow the following format.\n",
      "\n",
      "Question: ${question}\n",
      "Answer: Usually a number or short phrase.\n",
      "\n",
      "---\n",
      "\n",
      "Question: Amber, Micah, and Ahito ran 52 miles in total. Amber ran 8 miles. Micah ran 3.5 times what Amber ran. How many miles did Ahito run?\n",
      "Answer:\u001b[32m26.5 miles\u001b[0m\n",
      "\n",
      "\n",
      "\n"
     ]
    }
   ],
   "source": [
    "dspy_gemini_pro.inspect_history(n=1)"
   ]
  },
  {
   "cell_type": "markdown",
   "metadata": {},
   "source": [
    "Similar to above Gemini didn't get this one right. Let's evaluate Gemini of the test dataset to establish a baseline."
   ]
  },
  {
   "cell_type": "markdown",
   "metadata": {},
   "source": [
    "## Model evaluation with zero shot"
   ]
  },
  {
   "cell_type": "markdown",
   "metadata": {},
   "source": [
    "To run the evaluation programmatically we define a DSPy module These modules abstract a prompting technique (like chain of thought or ReAct). Crucially, they are generalized to handle any DSPy Signature."
   ]
  },
  {
   "cell_type": "code",
   "execution_count": 21,
   "metadata": {},
   "outputs": [],
   "source": [
    "class GSM8KModule(dspy.Module):\n",
    "    def __init__(self):\n",
    "        super().__init__()\n",
    "        # here we use the dspy.Predict module which uses zero shot prompting to generate answers\n",
    "        self.prog = dspy.Predict(GSM8KSignature) \n",
    "\n",
    "    def forward(self, question):\n",
    "        return self.prog(question=question)"
   ]
  },
  {
   "cell_type": "markdown",
   "metadata": {},
   "source": []
  },
  {
   "cell_type": "code",
   "execution_count": 22,
   "metadata": {},
   "outputs": [],
   "source": [
    "gsm8k_zero_shot = GSM8KModule()"
   ]
  },
  {
   "cell_type": "code",
   "execution_count": 23,
   "metadata": {},
   "outputs": [],
   "source": [
    "from dspy.evaluate import Evaluate\n",
    "\n",
    "NUM_THREADS = 4 # number of threads to use for parallel processing\n",
    "evaluate = Evaluate(\n",
    "    devset=test, # the test set\n",
    "    metric=gsm8k_metric, # the metric to use -> this will convert responses to integers to compare with the gold answers\n",
    "    num_threads=NUM_THREADS,\n",
    "    display_progress=True,\n",
    "    display_table=20, # how many rows to display\n",
    ")"
   ]
  },
  {
   "cell_type": "code",
   "execution_count": null,
   "metadata": {},
   "outputs": [],
   "source": [
    "!pip install Jinja2"
   ]
  },
  {
   "cell_type": "code",
   "execution_count": 25,
   "metadata": {},
   "outputs": [
    {
     "name": "stderr",
     "output_type": "stream",
     "text": [
      "Average Metric: 7 / 20  (35.0): 100%|██████████| 20/20 [00:03<00:00,  5.52it/s]\n",
      "/Users/heikohotz/.pyenv/versions/3.11.7/envs/venv-ape/lib/python3.11/site-packages/dspy/evaluate/evaluate.py:266: FutureWarning: Setting an item of incompatible dtype is deprecated and will raise in a future error of pandas. Value '['False' '✔️ [True]' '✔️ [True]' 'False' 'False' 'False' 'False' 'False'\n",
      " 'False' 'False' '✔️ [True]' '✔️ [True]' 'False' '✔️ [True]' 'False'\n",
      " 'False' '✔️ [True]' 'False' '✔️ [True]' 'False']' has dtype incompatible with bool, please explicitly cast to a compatible dtype first.\n",
      "  df.loc[:, metric_name] = df[metric_name].apply(\n"
     ]
    },
    {
     "name": "stdout",
     "output_type": "stream",
     "text": [
      "Average Metric: 7 / 20  (35.0%)\n"
     ]
    },
    {
     "data": {
      "text/html": [
       "<style type=\"text/css\">\n",
       "#T_04140 th {\n",
       "  text-align: left;\n",
       "}\n",
       "#T_04140 td {\n",
       "  text-align: left;\n",
       "}\n",
       "#T_04140_row0_col0, #T_04140_row0_col1, #T_04140_row0_col2, #T_04140_row0_col3, #T_04140_row0_col4, #T_04140_row1_col0, #T_04140_row1_col1, #T_04140_row1_col2, #T_04140_row1_col3, #T_04140_row1_col4, #T_04140_row2_col0, #T_04140_row2_col1, #T_04140_row2_col2, #T_04140_row2_col3, #T_04140_row2_col4, #T_04140_row3_col0, #T_04140_row3_col1, #T_04140_row3_col2, #T_04140_row3_col3, #T_04140_row3_col4, #T_04140_row4_col0, #T_04140_row4_col1, #T_04140_row4_col2, #T_04140_row4_col3, #T_04140_row4_col4, #T_04140_row5_col0, #T_04140_row5_col1, #T_04140_row5_col2, #T_04140_row5_col3, #T_04140_row5_col4, #T_04140_row6_col0, #T_04140_row6_col1, #T_04140_row6_col2, #T_04140_row6_col3, #T_04140_row6_col4, #T_04140_row7_col0, #T_04140_row7_col1, #T_04140_row7_col2, #T_04140_row7_col3, #T_04140_row7_col4, #T_04140_row8_col0, #T_04140_row8_col1, #T_04140_row8_col2, #T_04140_row8_col3, #T_04140_row8_col4, #T_04140_row9_col0, #T_04140_row9_col1, #T_04140_row9_col2, #T_04140_row9_col3, #T_04140_row9_col4, #T_04140_row10_col0, #T_04140_row10_col1, #T_04140_row10_col2, #T_04140_row10_col3, #T_04140_row10_col4, #T_04140_row11_col0, #T_04140_row11_col1, #T_04140_row11_col2, #T_04140_row11_col3, #T_04140_row11_col4, #T_04140_row12_col0, #T_04140_row12_col1, #T_04140_row12_col2, #T_04140_row12_col3, #T_04140_row12_col4, #T_04140_row13_col0, #T_04140_row13_col1, #T_04140_row13_col2, #T_04140_row13_col3, #T_04140_row13_col4, #T_04140_row14_col0, #T_04140_row14_col1, #T_04140_row14_col2, #T_04140_row14_col3, #T_04140_row14_col4, #T_04140_row15_col0, #T_04140_row15_col1, #T_04140_row15_col2, #T_04140_row15_col3, #T_04140_row15_col4, #T_04140_row16_col0, #T_04140_row16_col1, #T_04140_row16_col2, #T_04140_row16_col3, #T_04140_row16_col4, #T_04140_row17_col0, #T_04140_row17_col1, #T_04140_row17_col2, #T_04140_row17_col3, #T_04140_row17_col4, #T_04140_row18_col0, #T_04140_row18_col1, #T_04140_row18_col2, #T_04140_row18_col3, #T_04140_row18_col4, #T_04140_row19_col0, #T_04140_row19_col1, #T_04140_row19_col2, #T_04140_row19_col3, #T_04140_row19_col4 {\n",
       "  text-align: left;\n",
       "  white-space: pre-wrap;\n",
       "  word-wrap: break-word;\n",
       "  max-width: 400px;\n",
       "}\n",
       "</style>\n",
       "<table id=\"T_04140\">\n",
       "  <thead>\n",
       "    <tr>\n",
       "      <th class=\"blank level0\" >&nbsp;</th>\n",
       "      <th id=\"T_04140_level0_col0\" class=\"col_heading level0 col0\" >question</th>\n",
       "      <th id=\"T_04140_level0_col1\" class=\"col_heading level0 col1\" >gold_reasoning</th>\n",
       "      <th id=\"T_04140_level0_col2\" class=\"col_heading level0 col2\" >example_answer</th>\n",
       "      <th id=\"T_04140_level0_col3\" class=\"col_heading level0 col3\" >pred_answer</th>\n",
       "      <th id=\"T_04140_level0_col4\" class=\"col_heading level0 col4\" >gsm8k_metric</th>\n",
       "    </tr>\n",
       "  </thead>\n",
       "  <tbody>\n",
       "    <tr>\n",
       "      <th id=\"T_04140_level0_row0\" class=\"row_heading level0 row0\" >0</th>\n",
       "      <td id=\"T_04140_row0_col0\" class=\"data row0 col0\" >Amber, Micah, and Ahito ran 52 miles in total. Amber ran 8 miles. Micah ran 3.5 times what Amber ran. How many miles did Ahito...</td>\n",
       "      <td id=\"T_04140_row0_col1\" class=\"data row0 col1\" >Amber ran <<8=8>>8 miles. Micah ran 3.5 * 8 miles = <<3.5*8=28>>28 miles Ahito ran the rest = 52 - 8 - 28 = <<52-8-28=16>>16...</td>\n",
       "      <td id=\"T_04140_row0_col2\" class=\"data row0 col2\" >16</td>\n",
       "      <td id=\"T_04140_row0_col3\" class=\"data row0 col3\" >26.5 miles</td>\n",
       "      <td id=\"T_04140_row0_col4\" class=\"data row0 col4\" >False</td>\n",
       "    </tr>\n",
       "    <tr>\n",
       "      <th id=\"T_04140_level0_row1\" class=\"row_heading level0 row1\" >1</th>\n",
       "      <td id=\"T_04140_row1_col0\" class=\"data row1 col0\" >Miguel uses 2 pads of paper a week for his drawing. If there are 30 sheets of paper on a pad of paper, how many...</td>\n",
       "      <td id=\"T_04140_row1_col1\" class=\"data row1 col1\" >Miguel uses 30 x 2 = <<30*2=60>>60 sheets of paper every week. Therefore, he uses 60 x 4 = <<60*4=240>>240 sheets of paper every month.</td>\n",
       "      <td id=\"T_04140_row1_col2\" class=\"data row1 col2\" >240</td>\n",
       "      <td id=\"T_04140_row1_col3\" class=\"data row1 col3\" >240 sheets</td>\n",
       "      <td id=\"T_04140_row1_col4\" class=\"data row1 col4\" >✔️ [True]</td>\n",
       "    </tr>\n",
       "    <tr>\n",
       "      <th id=\"T_04140_level0_row2\" class=\"row_heading level0 row2\" >2</th>\n",
       "      <td id=\"T_04140_row2_col0\" class=\"data row2 col0\" >At a certain grade level, three-fourths of students have a desktop computer at home. If 20 students do not have desktop computers, how many students...</td>\n",
       "      <td id=\"T_04140_row2_col1\" class=\"data row2 col1\" >Twenty students represent 1 - 3/4 = 1/4 of the students at that level. So, there are 4 x 20 students = <<4*20=80>>80 students at...</td>\n",
       "      <td id=\"T_04140_row2_col2\" class=\"data row2 col2\" >80</td>\n",
       "      <td id=\"T_04140_row2_col3\" class=\"data row2 col3\" >80</td>\n",
       "      <td id=\"T_04140_row2_col4\" class=\"data row2 col4\" >✔️ [True]</td>\n",
       "    </tr>\n",
       "    <tr>\n",
       "      <th id=\"T_04140_level0_row3\" class=\"row_heading level0 row3\" >3</th>\n",
       "      <td id=\"T_04140_row3_col0\" class=\"data row3 col0\" >Comet Halley orbits the sun every 75 years. Bill's dad saw the Comet when he was 30 years old. Bill saw the comet a second...</td>\n",
       "      <td id=\"T_04140_row3_col1\" class=\"data row3 col1\" >Bill saw the Comet for the second time when he was 30 years * 3= <<30*3=90>>90 years old. Comet Halley can be seen every 75...</td>\n",
       "      <td id=\"T_04140_row3_col2\" class=\"data row3 col2\" >15</td>\n",
       "      <td id=\"T_04140_row3_col3\" class=\"data row3 col3\" >60</td>\n",
       "      <td id=\"T_04140_row3_col4\" class=\"data row3 col4\" >False</td>\n",
       "    </tr>\n",
       "    <tr>\n",
       "      <th id=\"T_04140_level0_row4\" class=\"row_heading level0 row4\" >4</th>\n",
       "      <td id=\"T_04140_row4_col0\" class=\"data row4 col0\" >Tom plants 10 trees a year. Every year he also chops down 2 trees a year. He starts with 50 trees. After 10 years 30%...</td>\n",
       "      <td id=\"T_04140_row4_col1\" class=\"data row4 col1\" >He gets 10-2=<<10-2=8>>8 new trees a year After 10 years he has 8*10=<<8*10=80>>80 new trees So he had 80+50=<<80+50=130>>130 trees He lost 130*.3=<<130*.3=39>>39 trees That...</td>\n",
       "      <td id=\"T_04140_row4_col2\" class=\"data row4 col2\" >91</td>\n",
       "      <td id=\"T_04140_row4_col3\" class=\"data row4 col3\" >35</td>\n",
       "      <td id=\"T_04140_row4_col4\" class=\"data row4 col4\" >False</td>\n",
       "    </tr>\n",
       "    <tr>\n",
       "      <th id=\"T_04140_level0_row5\" class=\"row_heading level0 row5\" >5</th>\n",
       "      <td id=\"T_04140_row5_col0\" class=\"data row5 col0\" >John picks 4 bananas on Wednesday. Then he picks 6 bananas on Thursday. On Friday, he picks triple the number of bananas he did on...</td>\n",
       "      <td id=\"T_04140_row5_col1\" class=\"data row5 col1\" >Combining Wednesday and Thursday, John has 4 bananas + 6 bananas = <<4+6=10>>10 bananas. On Friday, he picks 3 * 4 bananas = <<3*4=12>>12 bananas....</td>\n",
       "      <td id=\"T_04140_row5_col2\" class=\"data row5 col2\" >22</td>\n",
       "      <td id=\"T_04140_row5_col3\" class=\"data row5 col3\" >18 bananas</td>\n",
       "      <td id=\"T_04140_row5_col4\" class=\"data row5 col4\" >False</td>\n",
       "    </tr>\n",
       "    <tr>\n",
       "      <th id=\"T_04140_level0_row6\" class=\"row_heading level0 row6\" >6</th>\n",
       "      <td id=\"T_04140_row6_col0\" class=\"data row6 col0\" >Peyton scheduled after-work activities of a one hour yoga class on Monday, a cooking class that lasts three times as long as Monday’s yoga on...</td>\n",
       "      <td id=\"T_04140_row6_col1\" class=\"data row6 col1\" >Peyton’s cooking class will last 3 * 1 = <<3*1=3>>3 hours. The museum tour will take 3 / 2 = 1 1/2 hours. Peyton’s after-work...</td>\n",
       "      <td id=\"T_04140_row6_col2\" class=\"data row6 col2\" >8</td>\n",
       "      <td id=\"T_04140_row6_col3\" class=\"data row6 col3\" >6.5 hours</td>\n",
       "      <td id=\"T_04140_row6_col4\" class=\"data row6 col4\" >False</td>\n",
       "    </tr>\n",
       "    <tr>\n",
       "      <th id=\"T_04140_level0_row7\" class=\"row_heading level0 row7\" >7</th>\n",
       "      <td id=\"T_04140_row7_col0\" class=\"data row7 col0\" >Ben has 4 tubes of blue paint and 3 tubes of yellow paint. Jasper has half as many tubes of blue paint as Ben, and...</td>\n",
       "      <td id=\"T_04140_row7_col1\" class=\"data row7 col1\" >Jasper has 4/2= <<4/2=2>>2 tubes of blue paint Jasper has 3*3=<<3*3=9>>9 tubes of yellow paint Jasper has a total of 2+9 =<<2+9=11>>11 tubes of paint</td>\n",
       "      <td id=\"T_04140_row7_col2\" class=\"data row7 col2\" >11</td>\n",
       "      <td id=\"T_04140_row7_col3\" class=\"data row7 col3\" >10</td>\n",
       "      <td id=\"T_04140_row7_col4\" class=\"data row7 col4\" >False</td>\n",
       "    </tr>\n",
       "    <tr>\n",
       "      <th id=\"T_04140_level0_row8\" class=\"row_heading level0 row8\" >8</th>\n",
       "      <td id=\"T_04140_row8_col0\" class=\"data row8 col0\" >Elaina is holding the final concert in her tour. To celebrate her final concert, she makes the concert twice as long as her usual concerts....</td>\n",
       "      <td id=\"T_04140_row8_col1\" class=\"data row8 col1\" >The concert, minus the encore, lasted for 65-minute concert – 15-minute encore = <<65-15=50>>50 minutes. This is twice as long as her usual concerts so...</td>\n",
       "      <td id=\"T_04140_row8_col2\" class=\"data row8 col2\" >25</td>\n",
       "      <td id=\"T_04140_row8_col3\" class=\"data row8 col3\" >30 minutes</td>\n",
       "      <td id=\"T_04140_row8_col4\" class=\"data row8 col4\" >False</td>\n",
       "    </tr>\n",
       "    <tr>\n",
       "      <th id=\"T_04140_level0_row9\" class=\"row_heading level0 row9\" >9</th>\n",
       "      <td id=\"T_04140_row9_col0\" class=\"data row9 col0\" >Hannah slips on a banana peel and breaks her arm. The doctor charges her $200 for the cast, $300/hour for a 30-minute visit, $4/pill for...</td>\n",
       "      <td id=\"T_04140_row9_col1\" class=\"data row9 col1\" >First find the length of the visit in hours: 30 minutes / 60 minutes/hour = <<30/60=.5>>.5 hours Then find the total cost of the visit:...</td>\n",
       "      <td id=\"T_04140_row9_col2\" class=\"data row9 col2\" >482</td>\n",
       "      <td id=\"T_04140_row9_col3\" class=\"data row9 col3\" >$804</td>\n",
       "      <td id=\"T_04140_row9_col4\" class=\"data row9 col4\" >False</td>\n",
       "    </tr>\n",
       "    <tr>\n",
       "      <th id=\"T_04140_level0_row10\" class=\"row_heading level0 row10\" >10</th>\n",
       "      <td id=\"T_04140_row10_col0\" class=\"data row10 col0\" >A loaf of bread at the bakery costs $2. Bagels cost $1 each. How much more do 3 loaves of bread cost than 2 bagels?</td>\n",
       "      <td id=\"T_04140_row10_col1\" class=\"data row10 col1\" >3 loaves of bread cost 3 * $2 = $<<3*2=6>>6. 2 bagels cost 2 * $1 = $<<2*1=2>>2. The loaves of bread cost $6 -...</td>\n",
       "      <td id=\"T_04140_row10_col2\" class=\"data row10 col2\" >4</td>\n",
       "      <td id=\"T_04140_row10_col3\" class=\"data row10 col3\" >$4</td>\n",
       "      <td id=\"T_04140_row10_col4\" class=\"data row10 col4\" >✔️ [True]</td>\n",
       "    </tr>\n",
       "    <tr>\n",
       "      <th id=\"T_04140_level0_row11\" class=\"row_heading level0 row11\" >11</th>\n",
       "      <td id=\"T_04140_row11_col0\" class=\"data row11 col0\" >Bob thinks he needs 56 popsicle sticks to recreate the Washington Monument for his history project. His favorite popsicles come 8 to a box and...</td>\n",
       "      <td id=\"T_04140_row11_col1\" class=\"data row11 col1\" >He needs 56 popsicle sticks to build his project and they come 8 to a box so he needs 56/8 = <<56/8=7>>7 boxes Each box...</td>\n",
       "      <td id=\"T_04140_row11_col2\" class=\"data row11 col2\" >14</td>\n",
       "      <td id=\"T_04140_row11_col3\" class=\"data row11 col3\" >$14.00</td>\n",
       "      <td id=\"T_04140_row11_col4\" class=\"data row11 col4\" >✔️ [True]</td>\n",
       "    </tr>\n",
       "    <tr>\n",
       "      <th id=\"T_04140_level0_row12\" class=\"row_heading level0 row12\" >12</th>\n",
       "      <td id=\"T_04140_row12_col0\" class=\"data row12 col0\" >Dennis uses 1 pound of butter for every dozen croissants that he makes. He needs to make 6 dozen croissants. The grocery store currently has...</td>\n",
       "      <td id=\"T_04140_row12_col1\" class=\"data row12 col1\" >1 pound of butter makes 1 dozen croissants and he needs to make 6 dozen so he needs 1*6 = <<1*6=6>>6 pounds of butter The...</td>\n",
       "      <td id=\"T_04140_row12_col2\" class=\"data row12 col2\" >18</td>\n",
       "      <td id=\"T_04140_row12_col3\" class=\"data row12 col3\" >$16.00</td>\n",
       "      <td id=\"T_04140_row12_col4\" class=\"data row12 col4\" >False</td>\n",
       "    </tr>\n",
       "    <tr>\n",
       "      <th id=\"T_04140_level0_row13\" class=\"row_heading level0 row13\" >13</th>\n",
       "      <td id=\"T_04140_row13_col0\" class=\"data row13 col0\" >Regina wrote 9 novels last year. If this is 3 quarters of the number of novels she has written this year, how many novels has...</td>\n",
       "      <td id=\"T_04140_row13_col1\" class=\"data row13 col1\" >Number of novels she wrote last year = (3/4)*number of novels she wrote this year 9 = (3/4)*number of novels she wrote this year Multiplying...</td>\n",
       "      <td id=\"T_04140_row13_col2\" class=\"data row13 col2\" >12</td>\n",
       "      <td id=\"T_04140_row13_col3\" class=\"data row13 col3\" >12</td>\n",
       "      <td id=\"T_04140_row13_col4\" class=\"data row13 col4\" >✔️ [True]</td>\n",
       "    </tr>\n",
       "    <tr>\n",
       "      <th id=\"T_04140_level0_row14\" class=\"row_heading level0 row14\" >14</th>\n",
       "      <td id=\"T_04140_row14_col0\" class=\"data row14 col0\" >Alex is getting ready to attend an event that she has hosted and wants to make sure that she has enough seats for everyone. She...</td>\n",
       "      <td id=\"T_04140_row14_col1\" class=\"data row14 col1\" >Each of the people that were emailed are bringing 2 friends, which means that they will be in groups of 1 +2 = <<1+2=3>>3 people....</td>\n",
       "      <td id=\"T_04140_row14_col2\" class=\"data row14 col2\" >319</td>\n",
       "      <td id=\"T_04140_row14_col3\" class=\"data row14 col3\" >228</td>\n",
       "      <td id=\"T_04140_row14_col4\" class=\"data row14 col4\" >False</td>\n",
       "    </tr>\n",
       "    <tr>\n",
       "      <th id=\"T_04140_level0_row15\" class=\"row_heading level0 row15\" >15</th>\n",
       "      <td id=\"T_04140_row15_col0\" class=\"data row15 col0\" >Rozanne is making eggnog for her family. She uses 4 dozen eggs that were in cases and another 2 eggs that were loose in the...</td>\n",
       "      <td id=\"T_04140_row15_col1\" class=\"data row15 col1\" >As a dozen is equivalent to 12 eggs, Rozanne has 4 dozen eggs * 12 = <<4*12=48>>48 eggs in cases. She therefore has a total...</td>\n",
       "      <td id=\"T_04140_row15_col2\" class=\"data row15 col2\" >2</td>\n",
       "      <td id=\"T_04140_row15_col3\" class=\"data row15 col3\" >12</td>\n",
       "      <td id=\"T_04140_row15_col4\" class=\"data row15 col4\" >False</td>\n",
       "    </tr>\n",
       "    <tr>\n",
       "      <th id=\"T_04140_level0_row16\" class=\"row_heading level0 row16\" >16</th>\n",
       "      <td id=\"T_04140_row16_col0\" class=\"data row16 col0\" >Matthew has a collection of 12 unique toy soldiers. He wants to sell them for a fair price. He found a buyer who is willing...</td>\n",
       "      <td id=\"T_04140_row16_col1\" class=\"data row16 col1\" >Half of Matthew collection means 12 * 0.5 = <<12*0.5=6>>6 toy soldiers. A buyer wants to buy 6 toy soldiers for $5, so he would...</td>\n",
       "      <td id=\"T_04140_row16_col2\" class=\"data row16 col2\" >72</td>\n",
       "      <td id=\"T_04140_row16_col3\" class=\"data row16 col3\" >$72</td>\n",
       "      <td id=\"T_04140_row16_col4\" class=\"data row16 col4\" >✔️ [True]</td>\n",
       "    </tr>\n",
       "    <tr>\n",
       "      <th id=\"T_04140_level0_row17\" class=\"row_heading level0 row17\" >17</th>\n",
       "      <td id=\"T_04140_row17_col0\" class=\"data row17 col0\" >Mrs. Cruz is looking for a house that will not go beyond her $400 000 budget. She saw a property that has a selling price...</td>\n",
       "      <td id=\"T_04140_row17_col1\" class=\"data row17 col1\" >The brokerage fee is $350 000 x 5/100 = $<<350000*5/100=17500>>17500. The transfer fee is $350 000 x 12/100 = $<<350000*12/100=42000>>42000. The total price of the...</td>\n",
       "      <td id=\"T_04140_row17_col2\" class=\"data row17 col2\" >9500</td>\n",
       "      <td id=\"T_04140_row17_col3\" class=\"data row17 col3\" >$38 000</td>\n",
       "      <td id=\"T_04140_row17_col4\" class=\"data row17 col4\" >False</td>\n",
       "    </tr>\n",
       "    <tr>\n",
       "      <th id=\"T_04140_level0_row18\" class=\"row_heading level0 row18\" >18</th>\n",
       "      <td id=\"T_04140_row18_col0\" class=\"data row18 col0\" >Juan and his brother Carlos are selling lemonade. For each gallon they make it costs $3 for lemons and $2 for sugar. They sell each...</td>\n",
       "      <td id=\"T_04140_row18_col1\" class=\"data row18 col1\" >Each gallon sells for a total of $10 because 20 x .5 = <<20*.5=10>>10 Each gallon costs $5 to make because 3 + 2 =...</td>\n",
       "      <td id=\"T_04140_row18_col2\" class=\"data row18 col2\" >15</td>\n",
       "      <td id=\"T_04140_row18_col3\" class=\"data row18 col3\" >$15</td>\n",
       "      <td id=\"T_04140_row18_col4\" class=\"data row18 col4\" >✔️ [True]</td>\n",
       "    </tr>\n",
       "    <tr>\n",
       "      <th id=\"T_04140_level0_row19\" class=\"row_heading level0 row19\" >19</th>\n",
       "      <td id=\"T_04140_row19_col0\" class=\"data row19 col0\" >When the water is cold Ray swims a mile in 16 minutes. When the water is warm Ray swims a mile in 2 minutes more...</td>\n",
       "      <td id=\"T_04140_row19_col1\" class=\"data row19 col1\" >Cold water mile = <<16=16>>16 minutes Warm water mile = 2+2(16)=34 minutes 3 miles in cold water: 3(16)=<<3*16=48>>48 minutes 3 miles in warm water: 3(34)=<<3*34=102>>102...</td>\n",
       "      <td id=\"T_04140_row19_col2\" class=\"data row19 col2\" >54</td>\n",
       "      <td id=\"T_04140_row19_col3\" class=\"data row19 col3\" >10 minutes</td>\n",
       "      <td id=\"T_04140_row19_col4\" class=\"data row19 col4\" >False</td>\n",
       "    </tr>\n",
       "  </tbody>\n",
       "</table>\n"
      ],
      "text/plain": [
       "<pandas.io.formats.style.Styler at 0x104da9e90>"
      ]
     },
     "metadata": {},
     "output_type": "display_data"
    },
    {
     "data": {
      "text/plain": [
       "35.0"
      ]
     },
     "execution_count": 25,
     "metadata": {},
     "output_type": "execute_result"
    }
   ],
   "source": [
    "evaluate(gsm8k_zero_shot)"
   ]
  },
  {
   "cell_type": "markdown",
   "metadata": {},
   "source": [
    "So, with zero shot Gemini has a 35% success rate."
   ]
  },
  {
   "cell_type": "markdown",
   "metadata": {},
   "source": [
    "# Bootstrapping few shot examples"
   ]
  },
  {
   "cell_type": "code",
   "execution_count": 26,
   "metadata": {},
   "outputs": [],
   "source": [
    "class ZeroShotCoT(dspy.Module):\n",
    "    def __init__(self):\n",
    "        super().__init__()\n",
    "        self.prog = dspy.ChainOfThought(\n",
    "            GSM8KSignature,\n",
    "        )\n",
    "\n",
    "    def forward(self, question):\n",
    "        return self.prog(question=question)\n",
    "\n",
    "# zs_cot = ZeroShotCoT()"
   ]
  },
  {
   "cell_type": "code",
   "execution_count": 27,
   "metadata": {},
   "outputs": [],
   "source": [
    "from dspy.teleprompt import BootstrapFewShotWithRandomSearch"
   ]
  },
  {
   "cell_type": "code",
   "execution_count": null,
   "metadata": {},
   "outputs": [],
   "source": [
    "RUN_FROM_SCRATCH = True\n",
    "\n",
    "if RUN_FROM_SCRATCH:\n",
    "    dspy_gemini_ultra = dspy.GoogleVertexAI(\n",
    "        \"gemini-1.0-ultra\",\n",
    "        temperature=0,\n",
    "    )\n",
    "    dspy.settings.configure(lm=dspy_gemini_ultra, timeout=10)\n",
    "    config = dict(\n",
    "        max_bootstrapped_demos=8,\n",
    "        max_labeled_demos=3,\n",
    "        num_candidate_programs=3,\n",
    "        num_threads=1,\n",
    "    )\n",
    "    bootstrap_optimizer = BootstrapFewShotWithRandomSearch(\n",
    "        metric=gsm8k_metric, **config\n",
    "    )\n",
    "    cot_fewshot = bootstrap_optimizer.compile(ZeroShotCoT(), trainset=train, valset=val, seed_start=0)\n",
    "    cot_fewshot.save(\"ultra_8_3_3_gsm8k_0_60_20240317_1500.json\")\n",
    "else:\n",
    "    cot_fewshot = ZeroShotCoT()\n",
    "    cot_fewshot.load(\"ultra_8_3_3_gsm8k_0_60_20240317_1000.json\")"
   ]
  },
  {
   "cell_type": "code",
   "execution_count": 33,
   "metadata": {},
   "outputs": [],
   "source": [
    "dspy.settings.configure(lm=dspy_gemini_pro, timeout=0)"
   ]
  },
  {
   "cell_type": "code",
   "execution_count": 34,
   "metadata": {},
   "outputs": [
    {
     "name": "stdout",
     "output_type": "stream",
     "text": [
      "#> Sleeping for 0 seconds.\n",
      "#> Sleeping for 0 seconds.\n",
      "#> Sleeping for 0 seconds.\n",
      "#> Sleeping for 0 seconds.\n"
     ]
    },
    {
     "name": "stderr",
     "output_type": "stream",
     "text": [
      "Average Metric: 2 / 2  (100.0):   5%|▌         | 1/20 [00:01<00:32,  1.69s/it]"
     ]
    },
    {
     "name": "stdout",
     "output_type": "stream",
     "text": [
      "#> Sleeping for 0 seconds.\n",
      "#> Sleeping for 0 seconds.\n"
     ]
    },
    {
     "name": "stderr",
     "output_type": "stream",
     "text": [
      "Average Metric: 3 / 3  (100.0):  15%|█▌        | 3/20 [00:01<00:08,  1.94it/s]"
     ]
    },
    {
     "name": "stdout",
     "output_type": "stream",
     "text": [
      "#> Sleeping for 0 seconds.\n"
     ]
    },
    {
     "name": "stderr",
     "output_type": "stream",
     "text": [
      "Average Metric: 3 / 4  (75.0):  20%|██        | 4/20 [00:02<00:06,  2.31it/s] "
     ]
    },
    {
     "name": "stdout",
     "output_type": "stream",
     "text": [
      "#> Sleeping for 0 seconds.\n"
     ]
    },
    {
     "name": "stderr",
     "output_type": "stream",
     "text": [
      "Average Metric: 5 / 6  (83.3):  30%|███       | 6/20 [00:03<00:07,  1.86it/s]"
     ]
    },
    {
     "name": "stdout",
     "output_type": "stream",
     "text": [
      "#> Sleeping for 0 seconds.\n",
      "#> Sleeping for 0 seconds.\n"
     ]
    },
    {
     "name": "stderr",
     "output_type": "stream",
     "text": [
      "Average Metric: 7 / 8  (87.5):  40%|████      | 8/20 [00:04<00:04,  2.82it/s]"
     ]
    },
    {
     "name": "stdout",
     "output_type": "stream",
     "text": [
      "#> Sleeping for 0 seconds.\n",
      "#> Sleeping for 0 seconds.\n"
     ]
    },
    {
     "name": "stderr",
     "output_type": "stream",
     "text": [
      "Average Metric: 8 / 9  (88.9):  45%|████▌     | 9/20 [00:04<00:05,  1.95it/s]"
     ]
    },
    {
     "name": "stdout",
     "output_type": "stream",
     "text": [
      "#> Sleeping for 0 seconds.\n"
     ]
    },
    {
     "name": "stderr",
     "output_type": "stream",
     "text": [
      "Average Metric: 9 / 11  (81.8):  55%|█████▌    | 11/20 [00:05<00:03,  2.74it/s]"
     ]
    },
    {
     "name": "stdout",
     "output_type": "stream",
     "text": [
      "#> Sleeping for 0 seconds.\n",
      "#> Sleeping for 0 seconds.\n"
     ]
    },
    {
     "name": "stderr",
     "output_type": "stream",
     "text": [
      "Average Metric: 10 / 12  (83.3):  60%|██████    | 12/20 [00:05<00:02,  3.27it/s]"
     ]
    },
    {
     "name": "stdout",
     "output_type": "stream",
     "text": [
      "#> Sleeping for 0 seconds.\n"
     ]
    },
    {
     "name": "stderr",
     "output_type": "stream",
     "text": [
      "Average Metric: 12 / 14  (85.7):  65%|██████▌   | 13/20 [00:06<00:03,  1.83it/s]"
     ]
    },
    {
     "name": "stdout",
     "output_type": "stream",
     "text": [
      "#> Sleeping for 0 seconds.\n",
      "#> Sleeping for 0 seconds.\n"
     ]
    },
    {
     "name": "stderr",
     "output_type": "stream",
     "text": [
      "Average Metric: 13 / 16  (81.2):  75%|███████▌  | 15/20 [00:06<00:01,  2.91it/s]"
     ]
    },
    {
     "name": "stdout",
     "output_type": "stream",
     "text": [
      "#> Sleeping for 0 seconds.\n",
      "#> Sleeping for 0 seconds.\n"
     ]
    },
    {
     "name": "stderr",
     "output_type": "stream",
     "text": [
      "Average Metric: 16 / 20  (80.0): 100%|██████████| 20/20 [00:08<00:00,  2.30it/s]"
     ]
    },
    {
     "name": "stdout",
     "output_type": "stream",
     "text": [
      "Average Metric: 16 / 20  (80.0%)\n"
     ]
    },
    {
     "name": "stderr",
     "output_type": "stream",
     "text": [
      "\n",
      "/Users/heikohotz/.pyenv/versions/3.11.7/envs/venv-ape/lib/python3.11/site-packages/dspy/evaluate/evaluate.py:266: FutureWarning: Setting an item of incompatible dtype is deprecated and will raise in a future error of pandas. Value '['✔️ [True]' '✔️ [True]' '✔️ [True]' 'False' '✔️ [True]' '✔️ [True]'\n",
      " '✔️ [True]' '✔️ [True]' '✔️ [True]' 'False' '✔️ [True]' '✔️ [True]'\n",
      " '✔️ [True]' '✔️ [True]' 'False' '✔️ [True]' '✔️ [True]' 'False'\n",
      " '✔️ [True]' '✔️ [True]']' has dtype incompatible with bool, please explicitly cast to a compatible dtype first.\n",
      "  df.loc[:, metric_name] = df[metric_name].apply(\n"
     ]
    },
    {
     "data": {
      "text/html": [
       "<style type=\"text/css\">\n",
       "#T_88518 th {\n",
       "  text-align: left;\n",
       "}\n",
       "#T_88518 td {\n",
       "  text-align: left;\n",
       "}\n",
       "#T_88518_row0_col0, #T_88518_row0_col1, #T_88518_row0_col2, #T_88518_row0_col3, #T_88518_row0_col4, #T_88518_row0_col5, #T_88518_row1_col0, #T_88518_row1_col1, #T_88518_row1_col2, #T_88518_row1_col3, #T_88518_row1_col4, #T_88518_row1_col5, #T_88518_row2_col0, #T_88518_row2_col1, #T_88518_row2_col2, #T_88518_row2_col3, #T_88518_row2_col4, #T_88518_row2_col5, #T_88518_row3_col0, #T_88518_row3_col1, #T_88518_row3_col2, #T_88518_row3_col3, #T_88518_row3_col4, #T_88518_row3_col5, #T_88518_row4_col0, #T_88518_row4_col1, #T_88518_row4_col2, #T_88518_row4_col3, #T_88518_row4_col4, #T_88518_row4_col5, #T_88518_row5_col0, #T_88518_row5_col1, #T_88518_row5_col2, #T_88518_row5_col3, #T_88518_row5_col4, #T_88518_row5_col5, #T_88518_row6_col0, #T_88518_row6_col1, #T_88518_row6_col2, #T_88518_row6_col3, #T_88518_row6_col4, #T_88518_row6_col5, #T_88518_row7_col0, #T_88518_row7_col1, #T_88518_row7_col2, #T_88518_row7_col3, #T_88518_row7_col4, #T_88518_row7_col5, #T_88518_row8_col0, #T_88518_row8_col1, #T_88518_row8_col2, #T_88518_row8_col3, #T_88518_row8_col4, #T_88518_row8_col5, #T_88518_row9_col0, #T_88518_row9_col1, #T_88518_row9_col2, #T_88518_row9_col3, #T_88518_row9_col4, #T_88518_row9_col5, #T_88518_row10_col0, #T_88518_row10_col1, #T_88518_row10_col2, #T_88518_row10_col3, #T_88518_row10_col4, #T_88518_row10_col5, #T_88518_row11_col0, #T_88518_row11_col1, #T_88518_row11_col2, #T_88518_row11_col3, #T_88518_row11_col4, #T_88518_row11_col5, #T_88518_row12_col0, #T_88518_row12_col1, #T_88518_row12_col2, #T_88518_row12_col3, #T_88518_row12_col4, #T_88518_row12_col5, #T_88518_row13_col0, #T_88518_row13_col1, #T_88518_row13_col2, #T_88518_row13_col3, #T_88518_row13_col4, #T_88518_row13_col5, #T_88518_row14_col0, #T_88518_row14_col1, #T_88518_row14_col2, #T_88518_row14_col3, #T_88518_row14_col4, #T_88518_row14_col5, #T_88518_row15_col0, #T_88518_row15_col1, #T_88518_row15_col2, #T_88518_row15_col3, #T_88518_row15_col4, #T_88518_row15_col5, #T_88518_row16_col0, #T_88518_row16_col1, #T_88518_row16_col2, #T_88518_row16_col3, #T_88518_row16_col4, #T_88518_row16_col5, #T_88518_row17_col0, #T_88518_row17_col1, #T_88518_row17_col2, #T_88518_row17_col3, #T_88518_row17_col4, #T_88518_row17_col5, #T_88518_row18_col0, #T_88518_row18_col1, #T_88518_row18_col2, #T_88518_row18_col3, #T_88518_row18_col4, #T_88518_row18_col5, #T_88518_row19_col0, #T_88518_row19_col1, #T_88518_row19_col2, #T_88518_row19_col3, #T_88518_row19_col4, #T_88518_row19_col5 {\n",
       "  text-align: left;\n",
       "  white-space: pre-wrap;\n",
       "  word-wrap: break-word;\n",
       "  max-width: 400px;\n",
       "}\n",
       "</style>\n",
       "<table id=\"T_88518\">\n",
       "  <thead>\n",
       "    <tr>\n",
       "      <th class=\"blank level0\" >&nbsp;</th>\n",
       "      <th id=\"T_88518_level0_col0\" class=\"col_heading level0 col0\" >question</th>\n",
       "      <th id=\"T_88518_level0_col1\" class=\"col_heading level0 col1\" >gold_reasoning</th>\n",
       "      <th id=\"T_88518_level0_col2\" class=\"col_heading level0 col2\" >example_answer</th>\n",
       "      <th id=\"T_88518_level0_col3\" class=\"col_heading level0 col3\" >rationale</th>\n",
       "      <th id=\"T_88518_level0_col4\" class=\"col_heading level0 col4\" >pred_answer</th>\n",
       "      <th id=\"T_88518_level0_col5\" class=\"col_heading level0 col5\" >gsm8k_metric</th>\n",
       "    </tr>\n",
       "  </thead>\n",
       "  <tbody>\n",
       "    <tr>\n",
       "      <th id=\"T_88518_level0_row0\" class=\"row_heading level0 row0\" >0</th>\n",
       "      <td id=\"T_88518_row0_col0\" class=\"data row0 col0\" >Amber, Micah, and Ahito ran 52 miles in total. Amber ran 8 miles. Micah ran 3.5 times what Amber ran. How many miles did Ahito...</td>\n",
       "      <td id=\"T_88518_row0_col1\" class=\"data row0 col1\" >Amber ran <<8=8>>8 miles. Micah ran 3.5 * 8 miles = <<3.5*8=28>>28 miles Ahito ran the rest = 52 - 8 - 28 = <<52-8-28=16>>16...</td>\n",
       "      <td id=\"T_88518_row0_col2\" class=\"data row0 col2\" >16</td>\n",
       "      <td id=\"T_88518_row0_col3\" class=\"data row0 col3\" >find Ahito's distance. First, find Micah's distance by multiplying Amber's distance by 3.5: 8 miles x 3.5 = 28 miles. Now, subtract Amber's and Micah's...</td>\n",
       "      <td id=\"T_88518_row0_col4\" class=\"data row0 col4\" >16</td>\n",
       "      <td id=\"T_88518_row0_col5\" class=\"data row0 col5\" >✔️ [True]</td>\n",
       "    </tr>\n",
       "    <tr>\n",
       "      <th id=\"T_88518_level0_row1\" class=\"row_heading level0 row1\" >1</th>\n",
       "      <td id=\"T_88518_row1_col0\" class=\"data row1 col0\" >Miguel uses 2 pads of paper a week for his drawing. If there are 30 sheets of paper on a pad of paper, how many...</td>\n",
       "      <td id=\"T_88518_row1_col1\" class=\"data row1 col1\" >Miguel uses 30 x 2 = <<30*2=60>>60 sheets of paper every week. Therefore, he uses 60 x 4 = <<60*4=240>>240 sheets of paper every month.</td>\n",
       "      <td id=\"T_88518_row1_col2\" class=\"data row1 col2\" >240</td>\n",
       "      <td id=\"T_88518_row1_col3\" class=\"data row1 col3\" >find the number of sheets of paper Miguel uses every month. First, we need to find the total number of pads of paper he uses...</td>\n",
       "      <td id=\"T_88518_row1_col4\" class=\"data row1 col4\" >240</td>\n",
       "      <td id=\"T_88518_row1_col5\" class=\"data row1 col5\" >✔️ [True]</td>\n",
       "    </tr>\n",
       "    <tr>\n",
       "      <th id=\"T_88518_level0_row2\" class=\"row_heading level0 row2\" >2</th>\n",
       "      <td id=\"T_88518_row2_col0\" class=\"data row2 col0\" >At a certain grade level, three-fourths of students have a desktop computer at home. If 20 students do not have desktop computers, how many students...</td>\n",
       "      <td id=\"T_88518_row2_col1\" class=\"data row2 col1\" >Twenty students represent 1 - 3/4 = 1/4 of the students at that level. So, there are 4 x 20 students = <<4*20=80>>80 students at...</td>\n",
       "      <td id=\"T_88518_row2_col2\" class=\"data row2 col2\" >80</td>\n",
       "      <td id=\"T_88518_row2_col3\" class=\"data row2 col3\" >find the total number of students. First, we need to find the fraction of students who have desktop computers: 1 - 3/4 = 1/4. Now,...</td>\n",
       "      <td id=\"T_88518_row2_col4\" class=\"data row2 col4\" >80</td>\n",
       "      <td id=\"T_88518_row2_col5\" class=\"data row2 col5\" >✔️ [True]</td>\n",
       "    </tr>\n",
       "    <tr>\n",
       "      <th id=\"T_88518_level0_row3\" class=\"row_heading level0 row3\" >3</th>\n",
       "      <td id=\"T_88518_row3_col0\" class=\"data row3 col0\" >Comet Halley orbits the sun every 75 years. Bill's dad saw the Comet when he was 30 years old. Bill saw the comet a second...</td>\n",
       "      <td id=\"T_88518_row3_col1\" class=\"data row3 col1\" >Bill saw the Comet for the second time when he was 30 years * 3= <<30*3=90>>90 years old. Comet Halley can be seen every 75...</td>\n",
       "      <td id=\"T_88518_row3_col2\" class=\"data row3 col2\" >15</td>\n",
       "      <td id=\"T_88518_row3_col3\" class=\"data row3 col3\" >find Bill's age when he saw the Comet. First, we need to find the number of years that passed between the two sightings of the...</td>\n",
       "      <td id=\"T_88518_row3_col4\" class=\"data row3 col4\" >25</td>\n",
       "      <td id=\"T_88518_row3_col5\" class=\"data row3 col5\" >False</td>\n",
       "    </tr>\n",
       "    <tr>\n",
       "      <th id=\"T_88518_level0_row4\" class=\"row_heading level0 row4\" >4</th>\n",
       "      <td id=\"T_88518_row4_col0\" class=\"data row4 col0\" >Tom plants 10 trees a year. Every year he also chops down 2 trees a year. He starts with 50 trees. After 10 years 30%...</td>\n",
       "      <td id=\"T_88518_row4_col1\" class=\"data row4 col1\" >He gets 10-2=<<10-2=8>>8 new trees a year After 10 years he has 8*10=<<8*10=80>>80 new trees So he had 80+50=<<80+50=130>>130 trees He lost 130*.3=<<130*.3=39>>39 trees That...</td>\n",
       "      <td id=\"T_88518_row4_col2\" class=\"data row4 col2\" >91</td>\n",
       "      <td id=\"T_88518_row4_col3\" class=\"data row4 col3\" >calculate the number of trees left after 10 years. 1. **Calculate the number of trees planted in 10 years:** 10 trees/year x 10 years =...</td>\n",
       "      <td id=\"T_88518_row4_col4\" class=\"data row4 col4\" >91</td>\n",
       "      <td id=\"T_88518_row4_col5\" class=\"data row4 col5\" >✔️ [True]</td>\n",
       "    </tr>\n",
       "    <tr>\n",
       "      <th id=\"T_88518_level0_row5\" class=\"row_heading level0 row5\" >5</th>\n",
       "      <td id=\"T_88518_row5_col0\" class=\"data row5 col0\" >John picks 4 bananas on Wednesday. Then he picks 6 bananas on Thursday. On Friday, he picks triple the number of bananas he did on...</td>\n",
       "      <td id=\"T_88518_row5_col1\" class=\"data row5 col1\" >Combining Wednesday and Thursday, John has 4 bananas + 6 bananas = <<4+6=10>>10 bananas. On Friday, he picks 3 * 4 bananas = <<3*4=12>>12 bananas....</td>\n",
       "      <td id=\"T_88518_row5_col2\" class=\"data row5 col2\" >22</td>\n",
       "      <td id=\"T_88518_row5_col3\" class=\"data row5 col3\" >find the total number of bananas John has. First, find the number of bananas John picked on Friday by multiplying the number he picked on...</td>\n",
       "      <td id=\"T_88518_row5_col4\" class=\"data row5 col4\" >22</td>\n",
       "      <td id=\"T_88518_row5_col5\" class=\"data row5 col5\" >✔️ [True]</td>\n",
       "    </tr>\n",
       "    <tr>\n",
       "      <th id=\"T_88518_level0_row6\" class=\"row_heading level0 row6\" >6</th>\n",
       "      <td id=\"T_88518_row6_col0\" class=\"data row6 col0\" >Peyton scheduled after-work activities of a one hour yoga class on Monday, a cooking class that lasts three times as long as Monday’s yoga on...</td>\n",
       "      <td id=\"T_88518_row6_col1\" class=\"data row6 col1\" >Peyton’s cooking class will last 3 * 1 = <<3*1=3>>3 hours. The museum tour will take 3 / 2 = 1 1/2 hours. Peyton’s after-work...</td>\n",
       "      <td id=\"T_88518_row6_col2\" class=\"data row6 col2\" >8</td>\n",
       "      <td id=\"T_88518_row6_col3\" class=\"data row6 col3\" >calculate the total time for all of Peyton's after-work activities. 1. **Yoga class:** 1 hour 2. **Cooking class:** 3 times the yoga class time =...</td>\n",
       "      <td id=\"T_88518_row6_col4\" class=\"data row6 col4\" >8</td>\n",
       "      <td id=\"T_88518_row6_col5\" class=\"data row6 col5\" >✔️ [True]</td>\n",
       "    </tr>\n",
       "    <tr>\n",
       "      <th id=\"T_88518_level0_row7\" class=\"row_heading level0 row7\" >7</th>\n",
       "      <td id=\"T_88518_row7_col0\" class=\"data row7 col0\" >Ben has 4 tubes of blue paint and 3 tubes of yellow paint. Jasper has half as many tubes of blue paint as Ben, and...</td>\n",
       "      <td id=\"T_88518_row7_col1\" class=\"data row7 col1\" >Jasper has 4/2= <<4/2=2>>2 tubes of blue paint Jasper has 3*3=<<3*3=9>>9 tubes of yellow paint Jasper has a total of 2+9 =<<2+9=11>>11 tubes of paint</td>\n",
       "      <td id=\"T_88518_row7_col2\" class=\"data row7 col2\" >11</td>\n",
       "      <td id=\"T_88518_row7_col3\" class=\"data row7 col3\" >find the number of tubes of paint Jasper has. First, find the number of tubes of blue paint Jasper has by dividing Ben's blue paint...</td>\n",
       "      <td id=\"T_88518_row7_col4\" class=\"data row7 col4\" >11</td>\n",
       "      <td id=\"T_88518_row7_col5\" class=\"data row7 col5\" >✔️ [True]</td>\n",
       "    </tr>\n",
       "    <tr>\n",
       "      <th id=\"T_88518_level0_row8\" class=\"row_heading level0 row8\" >8</th>\n",
       "      <td id=\"T_88518_row8_col0\" class=\"data row8 col0\" >Elaina is holding the final concert in her tour. To celebrate her final concert, she makes the concert twice as long as her usual concerts....</td>\n",
       "      <td id=\"T_88518_row8_col1\" class=\"data row8 col1\" >The concert, minus the encore, lasted for 65-minute concert – 15-minute encore = <<65-15=50>>50 minutes. This is twice as long as her usual concerts so...</td>\n",
       "      <td id=\"T_88518_row8_col2\" class=\"data row8 col2\" >25</td>\n",
       "      <td id=\"T_88518_row8_col3\" class=\"data row8 col3\" >find the runtime of Elaina's usual concerts. First, we need to subtract the encore's runtime from the total runtime of the final concert: 65 minutes...</td>\n",
       "      <td id=\"T_88518_row8_col4\" class=\"data row8 col4\" >25</td>\n",
       "      <td id=\"T_88518_row8_col5\" class=\"data row8 col5\" >✔️ [True]</td>\n",
       "    </tr>\n",
       "    <tr>\n",
       "      <th id=\"T_88518_level0_row9\" class=\"row_heading level0 row9\" >9</th>\n",
       "      <td id=\"T_88518_row9_col0\" class=\"data row9 col0\" >Hannah slips on a banana peel and breaks her arm. The doctor charges her $200 for the cast, $300/hour for a 30-minute visit, $4/pill for...</td>\n",
       "      <td id=\"T_88518_row9_col1\" class=\"data row9 col1\" >First find the length of the visit in hours: 30 minutes / 60 minutes/hour = <<30/60=.5>>.5 hours Then find the total cost of the visit:...</td>\n",
       "      <td id=\"T_88518_row9_col2\" class=\"data row9 col2\" >482</td>\n",
       "      <td id=\"T_88518_row9_col3\" class=\"data row9 col3\" >calculate the total cost of the doctor's visit. First, we need to find the cost of the visit itself: $300/hour x 0.5 hours = $150....</td>\n",
       "      <td id=\"T_88518_row9_col4\" class=\"data row9 col4\" >332</td>\n",
       "      <td id=\"T_88518_row9_col5\" class=\"data row9 col5\" >False</td>\n",
       "    </tr>\n",
       "    <tr>\n",
       "      <th id=\"T_88518_level0_row10\" class=\"row_heading level0 row10\" >10</th>\n",
       "      <td id=\"T_88518_row10_col0\" class=\"data row10 col0\" >A loaf of bread at the bakery costs $2. Bagels cost $1 each. How much more do 3 loaves of bread cost than 2 bagels?</td>\n",
       "      <td id=\"T_88518_row10_col1\" class=\"data row10 col1\" >3 loaves of bread cost 3 * $2 = $<<3*2=6>>6. 2 bagels cost 2 * $1 = $<<2*1=2>>2. The loaves of bread cost $6 -...</td>\n",
       "      <td id=\"T_88518_row10_col2\" class=\"data row10 col2\" >4</td>\n",
       "      <td id=\"T_88518_row10_col3\" class=\"data row10 col3\" >find the price difference. First, find the total cost of 3 loaves of bread: 3 x $2 = $6. Next, find the total cost of...</td>\n",
       "      <td id=\"T_88518_row10_col4\" class=\"data row10 col4\" >$4</td>\n",
       "      <td id=\"T_88518_row10_col5\" class=\"data row10 col5\" >✔️ [True]</td>\n",
       "    </tr>\n",
       "    <tr>\n",
       "      <th id=\"T_88518_level0_row11\" class=\"row_heading level0 row11\" >11</th>\n",
       "      <td id=\"T_88518_row11_col0\" class=\"data row11 col0\" >Bob thinks he needs 56 popsicle sticks to recreate the Washington Monument for his history project. His favorite popsicles come 8 to a box and...</td>\n",
       "      <td id=\"T_88518_row11_col1\" class=\"data row11 col1\" >He needs 56 popsicle sticks to build his project and they come 8 to a box so he needs 56/8 = <<56/8=7>>7 boxes Each box...</td>\n",
       "      <td id=\"T_88518_row11_col2\" class=\"data row11 col2\" >14</td>\n",
       "      <td id=\"T_88518_row11_col3\" class=\"data row11 col3\" >calculate the cost of the popsicle sticks. First, we need to find the number of boxes Bob needs by dividing the total number of sticks...</td>\n",
       "      <td id=\"T_88518_row11_col4\" class=\"data row11 col4\" >$14.00</td>\n",
       "      <td id=\"T_88518_row11_col5\" class=\"data row11 col5\" >✔️ [True]</td>\n",
       "    </tr>\n",
       "    <tr>\n",
       "      <th id=\"T_88518_level0_row12\" class=\"row_heading level0 row12\" >12</th>\n",
       "      <td id=\"T_88518_row12_col0\" class=\"data row12 col0\" >Dennis uses 1 pound of butter for every dozen croissants that he makes. He needs to make 6 dozen croissants. The grocery store currently has...</td>\n",
       "      <td id=\"T_88518_row12_col1\" class=\"data row12 col1\" >1 pound of butter makes 1 dozen croissants and he needs to make 6 dozen so he needs 1*6 = <<1*6=6>>6 pounds of butter The...</td>\n",
       "      <td id=\"T_88518_row12_col2\" class=\"data row12 col2\" >18</td>\n",
       "      <td id=\"T_88518_row12_col3\" class=\"data row12 col3\" >calculate the total cost of the butter. First, find the cost of 1 pound of butter: $4.00. Since the promotion is buy one pound get...</td>\n",
       "      <td id=\"T_88518_row12_col4\" class=\"data row12 col4\" >$18.00</td>\n",
       "      <td id=\"T_88518_row12_col5\" class=\"data row12 col5\" >✔️ [True]</td>\n",
       "    </tr>\n",
       "    <tr>\n",
       "      <th id=\"T_88518_level0_row13\" class=\"row_heading level0 row13\" >13</th>\n",
       "      <td id=\"T_88518_row13_col0\" class=\"data row13 col0\" >Regina wrote 9 novels last year. If this is 3 quarters of the number of novels she has written this year, how many novels has...</td>\n",
       "      <td id=\"T_88518_row13_col1\" class=\"data row13 col1\" >Number of novels she wrote last year = (3/4)*number of novels she wrote this year 9 = (3/4)*number of novels she wrote this year Multiplying...</td>\n",
       "      <td id=\"T_88518_row13_col2\" class=\"data row13 col2\" >12</td>\n",
       "      <td id=\"T_88518_row13_col3\" class=\"data row13 col3\" >find the number of novels Regina has written this year. Since 9 novels represent 3 quarters of the total, we can set up a proportion:...</td>\n",
       "      <td id=\"T_88518_row13_col4\" class=\"data row13 col4\" >12</td>\n",
       "      <td id=\"T_88518_row13_col5\" class=\"data row13 col5\" >✔️ [True]</td>\n",
       "    </tr>\n",
       "    <tr>\n",
       "      <th id=\"T_88518_level0_row14\" class=\"row_heading level0 row14\" >14</th>\n",
       "      <td id=\"T_88518_row14_col0\" class=\"data row14 col0\" >Alex is getting ready to attend an event that she has hosted and wants to make sure that she has enough seats for everyone. She...</td>\n",
       "      <td id=\"T_88518_row14_col1\" class=\"data row14 col1\" >Each of the people that were emailed are bringing 2 friends, which means that they will be in groups of 1 +2 = <<1+2=3>>3 people....</td>\n",
       "      <td id=\"T_88518_row14_col2\" class=\"data row14 col2\" >319</td>\n",
       "      <td id=\"T_88518_row14_col3\" class=\"data row14 col3\" >calculate the total number of seats needed. First, find the number of guests invited by the email invitees: 100 people x 2 friends/person = 200...</td>\n",
       "      <td id=\"T_88518_row14_col4\" class=\"data row14 col4\" >320</td>\n",
       "      <td id=\"T_88518_row14_col5\" class=\"data row14 col5\" >False</td>\n",
       "    </tr>\n",
       "    <tr>\n",
       "      <th id=\"T_88518_level0_row15\" class=\"row_heading level0 row15\" >15</th>\n",
       "      <td id=\"T_88518_row15_col0\" class=\"data row15 col0\" >Rozanne is making eggnog for her family. She uses 4 dozen eggs that were in cases and another 2 eggs that were loose in the...</td>\n",
       "      <td id=\"T_88518_row15_col1\" class=\"data row15 col1\" >As a dozen is equivalent to 12 eggs, Rozanne has 4 dozen eggs * 12 = <<4*12=48>>48 eggs in cases. She therefore has a total...</td>\n",
       "      <td id=\"T_88518_row15_col2\" class=\"data row15 col2\" >2</td>\n",
       "      <td id=\"T_88518_row15_col3\" class=\"data row15 col3\" >determine the number of trays Rozanne can put out. First, find the total number of eggs Rozanne has: 4 dozen eggs x 12 eggs/dozen +...</td>\n",
       "      <td id=\"T_88518_row15_col4\" class=\"data row15 col4\" >2</td>\n",
       "      <td id=\"T_88518_row15_col5\" class=\"data row15 col5\" >✔️ [True]</td>\n",
       "    </tr>\n",
       "    <tr>\n",
       "      <th id=\"T_88518_level0_row16\" class=\"row_heading level0 row16\" >16</th>\n",
       "      <td id=\"T_88518_row16_col0\" class=\"data row16 col0\" >Matthew has a collection of 12 unique toy soldiers. He wants to sell them for a fair price. He found a buyer who is willing...</td>\n",
       "      <td id=\"T_88518_row16_col1\" class=\"data row16 col1\" >Half of Matthew collection means 12 * 0.5 = <<12*0.5=6>>6 toy soldiers. A buyer wants to buy 6 toy soldiers for $5, so he would...</td>\n",
       "      <td id=\"T_88518_row16_col2\" class=\"data row16 col2\" >72</td>\n",
       "      <td id=\"T_88518_row16_col3\" class=\"data row16 col3\" >calculate the total amount of money Matthew would earn. First, find the amount he would earn from selling half of his collection at $5 per...</td>\n",
       "      <td id=\"T_88518_row16_col4\" class=\"data row16 col4\" >$72</td>\n",
       "      <td id=\"T_88518_row16_col5\" class=\"data row16 col5\" >✔️ [True]</td>\n",
       "    </tr>\n",
       "    <tr>\n",
       "      <th id=\"T_88518_level0_row17\" class=\"row_heading level0 row17\" >17</th>\n",
       "      <td id=\"T_88518_row17_col0\" class=\"data row17 col0\" >Mrs. Cruz is looking for a house that will not go beyond her $400 000 budget. She saw a property that has a selling price...</td>\n",
       "      <td id=\"T_88518_row17_col1\" class=\"data row17 col1\" >The brokerage fee is $350 000 x 5/100 = $<<350000*5/100=17500>>17500. The transfer fee is $350 000 x 12/100 = $<<350000*12/100=42000>>42000. The total price of the...</td>\n",
       "      <td id=\"T_88518_row17_col2\" class=\"data row17 col2\" >9500</td>\n",
       "      <td id=\"T_88518_row17_col3\" class=\"data row17 col3\" >find the total price of the house and compare it to Mrs. Cruz's budget. First, calculate the brokerage fee by multiplying the selling price by...</td>\n",
       "      <td id=\"T_88518_row17_col4\" class=\"data row17 col4\" >$9 500</td>\n",
       "      <td id=\"T_88518_row17_col5\" class=\"data row17 col5\" >False</td>\n",
       "    </tr>\n",
       "    <tr>\n",
       "      <th id=\"T_88518_level0_row18\" class=\"row_heading level0 row18\" >18</th>\n",
       "      <td id=\"T_88518_row18_col0\" class=\"data row18 col0\" >Juan and his brother Carlos are selling lemonade. For each gallon they make it costs $3 for lemons and $2 for sugar. They sell each...</td>\n",
       "      <td id=\"T_88518_row18_col1\" class=\"data row18 col1\" >Each gallon sells for a total of $10 because 20 x .5 = <<20*.5=10>>10 Each gallon costs $5 to make because 3 + 2 =...</td>\n",
       "      <td id=\"T_88518_row18_col2\" class=\"data row18 col2\" >15</td>\n",
       "      <td id=\"T_88518_row18_col3\" class=\"data row18 col3\" >find the cost of lemons. First, find the total cost of making one gallon of lemonade: $3 for lemons + $2 for sugar = $5....</td>\n",
       "      <td id=\"T_88518_row18_col4\" class=\"data row18 col4\" >$15</td>\n",
       "      <td id=\"T_88518_row18_col5\" class=\"data row18 col5\" >✔️ [True]</td>\n",
       "    </tr>\n",
       "    <tr>\n",
       "      <th id=\"T_88518_level0_row19\" class=\"row_heading level0 row19\" >19</th>\n",
       "      <td id=\"T_88518_row19_col0\" class=\"data row19 col0\" >When the water is cold Ray swims a mile in 16 minutes. When the water is warm Ray swims a mile in 2 minutes more...</td>\n",
       "      <td id=\"T_88518_row19_col1\" class=\"data row19 col1\" >Cold water mile = <<16=16>>16 minutes Warm water mile = 2+2(16)=34 minutes 3 miles in cold water: 3(16)=<<3*16=48>>48 minutes 3 miles in warm water: 3(34)=<<3*34=102>>102...</td>\n",
       "      <td id=\"T_88518_row19_col2\" class=\"data row19 col2\" >54</td>\n",
       "      <td id=\"T_88518_row19_col3\" class=\"data row19 col3\" >find the difference in time. First, find the time it takes Ray to swim a mile in warm water: 2 minutes + (2 x 16...</td>\n",
       "      <td id=\"T_88518_row19_col4\" class=\"data row19 col4\" >54</td>\n",
       "      <td id=\"T_88518_row19_col5\" class=\"data row19 col5\" >✔️ [True]</td>\n",
       "    </tr>\n",
       "  </tbody>\n",
       "</table>\n"
      ],
      "text/plain": [
       "<pandas.io.formats.style.Styler at 0x13fe3a050>"
      ]
     },
     "metadata": {},
     "output_type": "display_data"
    },
    {
     "data": {
      "text/plain": [
       "80.0"
      ]
     },
     "execution_count": 34,
     "metadata": {},
     "output_type": "execute_result"
    }
   ],
   "source": [
    "evaluate(cot_fewshot)"
   ]
  },
  {
   "cell_type": "code",
   "execution_count": null,
   "metadata": {},
   "outputs": [],
   "source": [
    "dspy_gemini_pro.inspect_history(n=1)"
   ]
  },
  {
   "cell_type": "code",
   "execution_count": null,
   "metadata": {},
   "outputs": [],
   "source": []
  }
 ],
 "metadata": {
  "kernelspec": {
   "display_name": "venv-ape",
   "language": "python",
   "name": "python3"
  },
  "language_info": {
   "codemirror_mode": {
    "name": "ipython",
    "version": 3
   },
   "file_extension": ".py",
   "mimetype": "text/x-python",
   "name": "python",
   "nbconvert_exporter": "python",
   "pygments_lexer": "ipython3",
   "version": "3.11.7"
  }
 },
 "nbformat": 4,
 "nbformat_minor": 2
}
