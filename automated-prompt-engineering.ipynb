{
 "cells": [
  {
   "cell_type": "markdown",
   "metadata": {},
   "source": [
    "# Introduction"
   ]
  },
  {
   "cell_type": "markdown",
   "metadata": {},
   "source": [
    "[<img align=\"center\" src=\"https://colab.research.google.com/assets/colab-badge.svg\" />](https://colab.research.google.com/github/marshmellow77/automated-prompt-engineering/blob/main/automated-prompt-engineering.ipynb)\n",
    "\n",
    "\n",
    "This notebook demonstrates how to use Google's Gemini model to automate prompt engineering.\n",
    "\n",
    "Prompt engineering is a powerful way to improve the responses og large language models (LLMs). Bit it is also a manual, tedious, iterative process and it quickly accumulates technical debt and waste since each handcrafted prompt is specific to a model (and its version) as well as the task at hand.\n",
    "\n",
    "In this notebook we will learn how to use the DSPy library to autonomously and automatically create prompts that are optimised for a specific model and the task at hand.\n"
   ]
  },
  {
   "cell_type": "markdown",
   "metadata": {},
   "source": [
    "# Manual Prompt Engineering"
   ]
  },
  {
   "cell_type": "markdown",
   "metadata": {},
   "source": [
    "Manual prompt engineering is very tedious - let's look at an example where we carefully handcraft a prompt for our task and model."
   ]
  },
  {
   "cell_type": "markdown",
   "metadata": {},
   "source": [
    "## Setup"
   ]
  },
  {
   "cell_type": "code",
   "execution_count": 92,
   "metadata": {},
   "outputs": [
    {
     "name": "stdout",
     "output_type": "stream",
     "text": [
      "72645.01s - pydevd: Sending message related to process being replaced timed-out after 5 seconds\n",
      "Collecting dspy-ai\n",
      "  Cloning https://github.com/marshmellow77/dspy.git (to revision seedstart-random-search) to /private/var/folders/3d/6syzgsd52fjfp7lpbwxtjfnc016sv0/T/pip-install-llm9vak2/dspy-ai_864c2099b96f4f53a8daac970ae230b1\n",
      "  Running command git clone --filter=blob:none --quiet https://github.com/marshmellow77/dspy.git /private/var/folders/3d/6syzgsd52fjfp7lpbwxtjfnc016sv0/T/pip-install-llm9vak2/dspy-ai_864c2099b96f4f53a8daac970ae230b1\n",
      "  Running command git checkout -b seedstart-random-search --track origin/seedstart-random-search\n",
      "  Switched to a new branch 'seedstart-random-search'\n",
      "  branch 'seedstart-random-search' set up to track 'origin/seedstart-random-search'.\n",
      "  Resolved https://github.com/marshmellow77/dspy.git to commit 41718f802655c1d7359cb498efaba6659c07450b\n",
      "  Installing build dependencies ... \u001b[?25ldone\n",
      "\u001b[?25h  Getting requirements to build wheel ... \u001b[?25ldone\n",
      "\u001b[?25h  Preparing metadata (pyproject.toml) ... \u001b[?25ldone\n",
      "\u001b[?25hRequirement already satisfied: backoff~=2.2.1 in /Users/heikohotz/.pyenv/versions/3.11.7/envs/venv-ape/lib/python3.11/site-packages (from dspy-ai) (2.2.1)\n",
      "Requirement already satisfied: joblib~=1.3.2 in /Users/heikohotz/.pyenv/versions/3.11.7/envs/venv-ape/lib/python3.11/site-packages (from dspy-ai) (1.3.2)\n",
      "Requirement already satisfied: openai<2.0.0,>=0.28.1 in /Users/heikohotz/.pyenv/versions/3.11.7/envs/venv-ape/lib/python3.11/site-packages (from dspy-ai) (1.14.1)\n",
      "Requirement already satisfied: pandas in /Users/heikohotz/.pyenv/versions/3.11.7/envs/venv-ape/lib/python3.11/site-packages (from dspy-ai) (2.2.1)\n",
      "Requirement already satisfied: regex in /Users/heikohotz/.pyenv/versions/3.11.7/envs/venv-ape/lib/python3.11/site-packages (from dspy-ai) (2023.12.25)\n",
      "Requirement already satisfied: ujson in /Users/heikohotz/.pyenv/versions/3.11.7/envs/venv-ape/lib/python3.11/site-packages (from dspy-ai) (5.9.0)\n",
      "Requirement already satisfied: tqdm in /Users/heikohotz/.pyenv/versions/3.11.7/envs/venv-ape/lib/python3.11/site-packages (from dspy-ai) (4.66.2)\n",
      "Requirement already satisfied: datasets<3.0.0,~=2.14.6 in /Users/heikohotz/.pyenv/versions/3.11.7/envs/venv-ape/lib/python3.11/site-packages (from dspy-ai) (2.14.7)\n",
      "Requirement already satisfied: requests in /Users/heikohotz/.pyenv/versions/3.11.7/envs/venv-ape/lib/python3.11/site-packages (from dspy-ai) (2.31.0)\n",
      "Requirement already satisfied: optuna in /Users/heikohotz/.pyenv/versions/3.11.7/envs/venv-ape/lib/python3.11/site-packages (from dspy-ai) (3.5.0)\n",
      "Requirement already satisfied: pydantic==2.5.0 in /Users/heikohotz/.pyenv/versions/3.11.7/envs/venv-ape/lib/python3.11/site-packages (from dspy-ai) (2.5.0)\n",
      "Requirement already satisfied: annotated-types>=0.4.0 in /Users/heikohotz/.pyenv/versions/3.11.7/envs/venv-ape/lib/python3.11/site-packages (from pydantic==2.5.0->dspy-ai) (0.6.0)\n",
      "Requirement already satisfied: pydantic-core==2.14.1 in /Users/heikohotz/.pyenv/versions/3.11.7/envs/venv-ape/lib/python3.11/site-packages (from pydantic==2.5.0->dspy-ai) (2.14.1)\n",
      "Requirement already satisfied: typing-extensions>=4.6.1 in /Users/heikohotz/.pyenv/versions/3.11.7/envs/venv-ape/lib/python3.11/site-packages (from pydantic==2.5.0->dspy-ai) (4.10.0)\n",
      "Requirement already satisfied: numpy>=1.17 in /Users/heikohotz/.pyenv/versions/3.11.7/envs/venv-ape/lib/python3.11/site-packages (from datasets<3.0.0,~=2.14.6->dspy-ai) (1.26.4)\n",
      "Requirement already satisfied: pyarrow>=8.0.0 in /Users/heikohotz/.pyenv/versions/3.11.7/envs/venv-ape/lib/python3.11/site-packages (from datasets<3.0.0,~=2.14.6->dspy-ai) (15.0.1)\n",
      "Requirement already satisfied: pyarrow-hotfix in /Users/heikohotz/.pyenv/versions/3.11.7/envs/venv-ape/lib/python3.11/site-packages (from datasets<3.0.0,~=2.14.6->dspy-ai) (0.6)\n",
      "Requirement already satisfied: dill<0.3.8,>=0.3.0 in /Users/heikohotz/.pyenv/versions/3.11.7/envs/venv-ape/lib/python3.11/site-packages (from datasets<3.0.0,~=2.14.6->dspy-ai) (0.3.7)\n",
      "Requirement already satisfied: xxhash in /Users/heikohotz/.pyenv/versions/3.11.7/envs/venv-ape/lib/python3.11/site-packages (from datasets<3.0.0,~=2.14.6->dspy-ai) (3.4.1)\n",
      "Requirement already satisfied: multiprocess in /Users/heikohotz/.pyenv/versions/3.11.7/envs/venv-ape/lib/python3.11/site-packages (from datasets<3.0.0,~=2.14.6->dspy-ai) (0.70.15)\n",
      "Requirement already satisfied: fsspec[http]<=2023.10.0,>=2023.1.0 in /Users/heikohotz/.pyenv/versions/3.11.7/envs/venv-ape/lib/python3.11/site-packages (from datasets<3.0.0,~=2.14.6->dspy-ai) (2023.10.0)\n",
      "Requirement already satisfied: aiohttp in /Users/heikohotz/.pyenv/versions/3.11.7/envs/venv-ape/lib/python3.11/site-packages (from datasets<3.0.0,~=2.14.6->dspy-ai) (3.9.3)\n",
      "Requirement already satisfied: huggingface-hub<1.0.0,>=0.14.0 in /Users/heikohotz/.pyenv/versions/3.11.7/envs/venv-ape/lib/python3.11/site-packages (from datasets<3.0.0,~=2.14.6->dspy-ai) (0.21.4)\n",
      "Requirement already satisfied: packaging in /Users/heikohotz/.pyenv/versions/3.11.7/envs/venv-ape/lib/python3.11/site-packages (from datasets<3.0.0,~=2.14.6->dspy-ai) (24.0)\n",
      "Requirement already satisfied: pyyaml>=5.1 in /Users/heikohotz/.pyenv/versions/3.11.7/envs/venv-ape/lib/python3.11/site-packages (from datasets<3.0.0,~=2.14.6->dspy-ai) (6.0.1)\n",
      "Requirement already satisfied: anyio<5,>=3.5.0 in /Users/heikohotz/.pyenv/versions/3.11.7/envs/venv-ape/lib/python3.11/site-packages (from openai<2.0.0,>=0.28.1->dspy-ai) (4.3.0)\n",
      "Requirement already satisfied: distro<2,>=1.7.0 in /Users/heikohotz/.pyenv/versions/3.11.7/envs/venv-ape/lib/python3.11/site-packages (from openai<2.0.0,>=0.28.1->dspy-ai) (1.9.0)\n",
      "Requirement already satisfied: httpx<1,>=0.23.0 in /Users/heikohotz/.pyenv/versions/3.11.7/envs/venv-ape/lib/python3.11/site-packages (from openai<2.0.0,>=0.28.1->dspy-ai) (0.27.0)\n",
      "Requirement already satisfied: sniffio in /Users/heikohotz/.pyenv/versions/3.11.7/envs/venv-ape/lib/python3.11/site-packages (from openai<2.0.0,>=0.28.1->dspy-ai) (1.3.1)\n",
      "Requirement already satisfied: charset-normalizer<4,>=2 in /Users/heikohotz/.pyenv/versions/3.11.7/envs/venv-ape/lib/python3.11/site-packages (from requests->dspy-ai) (3.3.2)\n",
      "Requirement already satisfied: idna<4,>=2.5 in /Users/heikohotz/.pyenv/versions/3.11.7/envs/venv-ape/lib/python3.11/site-packages (from requests->dspy-ai) (3.6)\n",
      "Requirement already satisfied: urllib3<3,>=1.21.1 in /Users/heikohotz/.pyenv/versions/3.11.7/envs/venv-ape/lib/python3.11/site-packages (from requests->dspy-ai) (2.2.1)\n",
      "Requirement already satisfied: certifi>=2017.4.17 in /Users/heikohotz/.pyenv/versions/3.11.7/envs/venv-ape/lib/python3.11/site-packages (from requests->dspy-ai) (2024.2.2)\n",
      "Requirement already satisfied: alembic>=1.5.0 in /Users/heikohotz/.pyenv/versions/3.11.7/envs/venv-ape/lib/python3.11/site-packages (from optuna->dspy-ai) (1.13.1)\n",
      "Requirement already satisfied: colorlog in /Users/heikohotz/.pyenv/versions/3.11.7/envs/venv-ape/lib/python3.11/site-packages (from optuna->dspy-ai) (6.8.2)\n",
      "Requirement already satisfied: sqlalchemy>=1.3.0 in /Users/heikohotz/.pyenv/versions/3.11.7/envs/venv-ape/lib/python3.11/site-packages (from optuna->dspy-ai) (2.0.28)\n",
      "Requirement already satisfied: python-dateutil>=2.8.2 in /Users/heikohotz/.pyenv/versions/3.11.7/envs/venv-ape/lib/python3.11/site-packages (from pandas->dspy-ai) (2.9.0.post0)\n",
      "Requirement already satisfied: pytz>=2020.1 in /Users/heikohotz/.pyenv/versions/3.11.7/envs/venv-ape/lib/python3.11/site-packages (from pandas->dspy-ai) (2024.1)\n",
      "Requirement already satisfied: tzdata>=2022.7 in /Users/heikohotz/.pyenv/versions/3.11.7/envs/venv-ape/lib/python3.11/site-packages (from pandas->dspy-ai) (2024.1)\n",
      "Requirement already satisfied: Mako in /Users/heikohotz/.pyenv/versions/3.11.7/envs/venv-ape/lib/python3.11/site-packages (from alembic>=1.5.0->optuna->dspy-ai) (1.3.2)\n",
      "Requirement already satisfied: aiosignal>=1.1.2 in /Users/heikohotz/.pyenv/versions/3.11.7/envs/venv-ape/lib/python3.11/site-packages (from aiohttp->datasets<3.0.0,~=2.14.6->dspy-ai) (1.3.1)\n",
      "Requirement already satisfied: attrs>=17.3.0 in /Users/heikohotz/.pyenv/versions/3.11.7/envs/venv-ape/lib/python3.11/site-packages (from aiohttp->datasets<3.0.0,~=2.14.6->dspy-ai) (23.2.0)\n",
      "Requirement already satisfied: frozenlist>=1.1.1 in /Users/heikohotz/.pyenv/versions/3.11.7/envs/venv-ape/lib/python3.11/site-packages (from aiohttp->datasets<3.0.0,~=2.14.6->dspy-ai) (1.4.1)\n",
      "Requirement already satisfied: multidict<7.0,>=4.5 in /Users/heikohotz/.pyenv/versions/3.11.7/envs/venv-ape/lib/python3.11/site-packages (from aiohttp->datasets<3.0.0,~=2.14.6->dspy-ai) (6.0.5)\n",
      "Requirement already satisfied: yarl<2.0,>=1.0 in /Users/heikohotz/.pyenv/versions/3.11.7/envs/venv-ape/lib/python3.11/site-packages (from aiohttp->datasets<3.0.0,~=2.14.6->dspy-ai) (1.9.4)\n",
      "Requirement already satisfied: httpcore==1.* in /Users/heikohotz/.pyenv/versions/3.11.7/envs/venv-ape/lib/python3.11/site-packages (from httpx<1,>=0.23.0->openai<2.0.0,>=0.28.1->dspy-ai) (1.0.4)\n",
      "Requirement already satisfied: h11<0.15,>=0.13 in /Users/heikohotz/.pyenv/versions/3.11.7/envs/venv-ape/lib/python3.11/site-packages (from httpcore==1.*->httpx<1,>=0.23.0->openai<2.0.0,>=0.28.1->dspy-ai) (0.14.0)\n",
      "Requirement already satisfied: filelock in /Users/heikohotz/.pyenv/versions/3.11.7/envs/venv-ape/lib/python3.11/site-packages (from huggingface-hub<1.0.0,>=0.14.0->datasets<3.0.0,~=2.14.6->dspy-ai) (3.13.1)\n",
      "Requirement already satisfied: six>=1.5 in /Users/heikohotz/.pyenv/versions/3.11.7/envs/venv-ape/lib/python3.11/site-packages (from python-dateutil>=2.8.2->pandas->dspy-ai) (1.16.0)\n",
      "Requirement already satisfied: MarkupSafe>=0.9.2 in /Users/heikohotz/.pyenv/versions/3.11.7/envs/venv-ape/lib/python3.11/site-packages (from Mako->alembic>=1.5.0->optuna->dspy-ai) (2.1.5)\n",
      "Building wheels for collected packages: dspy-ai\n",
      "  Building wheel for dspy-ai (pyproject.toml) ... \u001b[?25ldone\n",
      "\u001b[?25h  Created wheel for dspy-ai: filename=dspy_ai-2.4.1-py3-none-any.whl size=204354 sha256=95ba67129bf96694914732736b36e8ac4de7f94b213b5fa847982a4ecb5e6b5b\n",
      "  Stored in directory: /private/var/folders/3d/6syzgsd52fjfp7lpbwxtjfnc016sv0/T/pip-ephem-wheel-cache-wd9de8q9/wheels/35/c8/d8/8da89cf10aa6f2aeb7c19e0d63a550ef21f1a82673166f9a10\n",
      "Successfully built dspy-ai\n",
      "Installing collected packages: dspy-ai\n",
      "Successfully installed dspy-ai-2.4.1\n",
      "\n",
      "\u001b[1m[\u001b[0m\u001b[34;49mnotice\u001b[0m\u001b[1;39;49m]\u001b[0m\u001b[39;49m A new release of pip is available: \u001b[0m\u001b[31;49m23.2.1\u001b[0m\u001b[39;49m -> \u001b[0m\u001b[32;49m24.0\u001b[0m\n",
      "\u001b[1m[\u001b[0m\u001b[34;49mnotice\u001b[0m\u001b[1;39;49m]\u001b[0m\u001b[39;49m To update, run: \u001b[0m\u001b[32;49mpip install --upgrade pip\u001b[0m\n"
     ]
    }
   ],
   "source": [
    "# As of 3 April 2024, VertexAI is not yet integrated into DSPy. But there already exists a PR for it which we can leverage.\n",
    "!pip install -U git+https://github.com/marshmellow77/dspy.git@seedstart-random-search#egg=dspy-ai"
   ]
  },
  {
   "cell_type": "code",
   "execution_count": 66,
   "metadata": {},
   "outputs": [
    {
     "name": "stdout",
     "output_type": "stream",
     "text": [
      "Requirement already satisfied: google-cloud-aiplatform in /Users/heikohotz/.pyenv/versions/3.11.7/envs/venv-ape/lib/python3.11/site-packages (1.44.0)\n",
      "Collecting google-cloud-aiplatform\n",
      "  Obtaining dependency information for google-cloud-aiplatform from https://files.pythonhosted.org/packages/37/79/c8bd845c85a097cee8d80fad6551db0fabb9a93c9aaf6eb955422d675cbb/google_cloud_aiplatform-1.46.0-py2.py3-none-any.whl.metadata\n",
      "  Downloading google_cloud_aiplatform-1.46.0-py2.py3-none-any.whl.metadata (28 kB)\n",
      "Requirement already satisfied: google-api-core[grpc]!=2.0.*,!=2.1.*,!=2.2.*,!=2.3.*,!=2.4.*,!=2.5.*,!=2.6.*,!=2.7.*,<3.0.0dev,>=1.34.1 in /Users/heikohotz/.pyenv/versions/3.11.7/envs/venv-ape/lib/python3.11/site-packages (from google-cloud-aiplatform) (2.17.1)\n",
      "Requirement already satisfied: google-auth<3.0.0dev,>=2.14.1 in /Users/heikohotz/.pyenv/versions/3.11.7/envs/venv-ape/lib/python3.11/site-packages (from google-cloud-aiplatform) (2.28.2)\n",
      "Requirement already satisfied: proto-plus<2.0.0dev,>=1.22.0 in /Users/heikohotz/.pyenv/versions/3.11.7/envs/venv-ape/lib/python3.11/site-packages (from google-cloud-aiplatform) (1.23.0)\n",
      "Requirement already satisfied: protobuf!=3.20.0,!=3.20.1,!=4.21.0,!=4.21.1,!=4.21.2,!=4.21.3,!=4.21.4,!=4.21.5,<5.0.0dev,>=3.19.5 in /Users/heikohotz/.pyenv/versions/3.11.7/envs/venv-ape/lib/python3.11/site-packages (from google-cloud-aiplatform) (4.25.3)\n",
      "Requirement already satisfied: packaging>=14.3 in /Users/heikohotz/.pyenv/versions/3.11.7/envs/venv-ape/lib/python3.11/site-packages (from google-cloud-aiplatform) (24.0)\n",
      "Requirement already satisfied: google-cloud-storage<3.0.0dev,>=1.32.0 in /Users/heikohotz/.pyenv/versions/3.11.7/envs/venv-ape/lib/python3.11/site-packages (from google-cloud-aiplatform) (2.15.0)\n",
      "Requirement already satisfied: google-cloud-bigquery!=3.20.0,<4.0.0dev,>=1.15.0 in /Users/heikohotz/.pyenv/versions/3.11.7/envs/venv-ape/lib/python3.11/site-packages (from google-cloud-aiplatform) (3.19.0)\n",
      "Requirement already satisfied: google-cloud-resource-manager<3.0.0dev,>=1.3.3 in /Users/heikohotz/.pyenv/versions/3.11.7/envs/venv-ape/lib/python3.11/site-packages (from google-cloud-aiplatform) (1.12.3)\n",
      "Requirement already satisfied: shapely<3.0.0dev in /Users/heikohotz/.pyenv/versions/3.11.7/envs/venv-ape/lib/python3.11/site-packages (from google-cloud-aiplatform) (2.0.3)\n",
      "Requirement already satisfied: pydantic<3 in /Users/heikohotz/.pyenv/versions/3.11.7/envs/venv-ape/lib/python3.11/site-packages (from google-cloud-aiplatform) (2.5.0)\n",
      "Collecting docstring-parser<1 (from google-cloud-aiplatform)\n",
      "  Obtaining dependency information for docstring-parser<1 from https://files.pythonhosted.org/packages/d5/7c/e9fcff7623954d86bdc17782036cbf715ecab1bec4847c008557affe1ca8/docstring_parser-0.16-py3-none-any.whl.metadata\n",
      "  Downloading docstring_parser-0.16-py3-none-any.whl.metadata (3.0 kB)\n",
      "Requirement already satisfied: googleapis-common-protos<2.0.dev0,>=1.56.2 in /Users/heikohotz/.pyenv/versions/3.11.7/envs/venv-ape/lib/python3.11/site-packages (from google-api-core[grpc]!=2.0.*,!=2.1.*,!=2.2.*,!=2.3.*,!=2.4.*,!=2.5.*,!=2.6.*,!=2.7.*,<3.0.0dev,>=1.34.1->google-cloud-aiplatform) (1.63.0)\n",
      "Requirement already satisfied: requests<3.0.0.dev0,>=2.18.0 in /Users/heikohotz/.pyenv/versions/3.11.7/envs/venv-ape/lib/python3.11/site-packages (from google-api-core[grpc]!=2.0.*,!=2.1.*,!=2.2.*,!=2.3.*,!=2.4.*,!=2.5.*,!=2.6.*,!=2.7.*,<3.0.0dev,>=1.34.1->google-cloud-aiplatform) (2.31.0)\n",
      "Requirement already satisfied: grpcio<2.0dev,>=1.33.2 in /Users/heikohotz/.pyenv/versions/3.11.7/envs/venv-ape/lib/python3.11/site-packages (from google-api-core[grpc]!=2.0.*,!=2.1.*,!=2.2.*,!=2.3.*,!=2.4.*,!=2.5.*,!=2.6.*,!=2.7.*,<3.0.0dev,>=1.34.1->google-cloud-aiplatform) (1.62.1)\n",
      "Requirement already satisfied: grpcio-status<2.0.dev0,>=1.33.2 in /Users/heikohotz/.pyenv/versions/3.11.7/envs/venv-ape/lib/python3.11/site-packages (from google-api-core[grpc]!=2.0.*,!=2.1.*,!=2.2.*,!=2.3.*,!=2.4.*,!=2.5.*,!=2.6.*,!=2.7.*,<3.0.0dev,>=1.34.1->google-cloud-aiplatform) (1.62.1)\n",
      "Requirement already satisfied: cachetools<6.0,>=2.0.0 in /Users/heikohotz/.pyenv/versions/3.11.7/envs/venv-ape/lib/python3.11/site-packages (from google-auth<3.0.0dev,>=2.14.1->google-cloud-aiplatform) (5.3.3)\n",
      "Requirement already satisfied: pyasn1-modules>=0.2.1 in /Users/heikohotz/.pyenv/versions/3.11.7/envs/venv-ape/lib/python3.11/site-packages (from google-auth<3.0.0dev,>=2.14.1->google-cloud-aiplatform) (0.3.0)\n",
      "Requirement already satisfied: rsa<5,>=3.1.4 in /Users/heikohotz/.pyenv/versions/3.11.7/envs/venv-ape/lib/python3.11/site-packages (from google-auth<3.0.0dev,>=2.14.1->google-cloud-aiplatform) (4.9)\n",
      "Requirement already satisfied: google-cloud-core<3.0.0dev,>=1.6.0 in /Users/heikohotz/.pyenv/versions/3.11.7/envs/venv-ape/lib/python3.11/site-packages (from google-cloud-bigquery!=3.20.0,<4.0.0dev,>=1.15.0->google-cloud-aiplatform) (2.4.1)\n",
      "Requirement already satisfied: google-resumable-media<3.0dev,>=0.6.0 in /Users/heikohotz/.pyenv/versions/3.11.7/envs/venv-ape/lib/python3.11/site-packages (from google-cloud-bigquery!=3.20.0,<4.0.0dev,>=1.15.0->google-cloud-aiplatform) (2.7.0)\n",
      "Requirement already satisfied: python-dateutil<3.0dev,>=2.7.2 in /Users/heikohotz/.pyenv/versions/3.11.7/envs/venv-ape/lib/python3.11/site-packages (from google-cloud-bigquery!=3.20.0,<4.0.0dev,>=1.15.0->google-cloud-aiplatform) (2.9.0.post0)\n",
      "Requirement already satisfied: grpc-google-iam-v1<1.0.0dev,>=0.12.4 in /Users/heikohotz/.pyenv/versions/3.11.7/envs/venv-ape/lib/python3.11/site-packages (from google-cloud-resource-manager<3.0.0dev,>=1.3.3->google-cloud-aiplatform) (0.13.0)\n",
      "Requirement already satisfied: google-crc32c<2.0dev,>=1.0 in /Users/heikohotz/.pyenv/versions/3.11.7/envs/venv-ape/lib/python3.11/site-packages (from google-cloud-storage<3.0.0dev,>=1.32.0->google-cloud-aiplatform) (1.5.0)\n",
      "Requirement already satisfied: annotated-types>=0.4.0 in /Users/heikohotz/.pyenv/versions/3.11.7/envs/venv-ape/lib/python3.11/site-packages (from pydantic<3->google-cloud-aiplatform) (0.6.0)\n",
      "Requirement already satisfied: pydantic-core==2.14.1 in /Users/heikohotz/.pyenv/versions/3.11.7/envs/venv-ape/lib/python3.11/site-packages (from pydantic<3->google-cloud-aiplatform) (2.14.1)\n",
      "Requirement already satisfied: typing-extensions>=4.6.1 in /Users/heikohotz/.pyenv/versions/3.11.7/envs/venv-ape/lib/python3.11/site-packages (from pydantic<3->google-cloud-aiplatform) (4.10.0)\n",
      "Requirement already satisfied: numpy<2,>=1.14 in /Users/heikohotz/.pyenv/versions/3.11.7/envs/venv-ape/lib/python3.11/site-packages (from shapely<3.0.0dev->google-cloud-aiplatform) (1.26.4)\n",
      "Requirement already satisfied: pyasn1<0.6.0,>=0.4.6 in /Users/heikohotz/.pyenv/versions/3.11.7/envs/venv-ape/lib/python3.11/site-packages (from pyasn1-modules>=0.2.1->google-auth<3.0.0dev,>=2.14.1->google-cloud-aiplatform) (0.5.1)\n",
      "Requirement already satisfied: six>=1.5 in /Users/heikohotz/.pyenv/versions/3.11.7/envs/venv-ape/lib/python3.11/site-packages (from python-dateutil<3.0dev,>=2.7.2->google-cloud-bigquery!=3.20.0,<4.0.0dev,>=1.15.0->google-cloud-aiplatform) (1.16.0)\n",
      "Requirement already satisfied: charset-normalizer<4,>=2 in /Users/heikohotz/.pyenv/versions/3.11.7/envs/venv-ape/lib/python3.11/site-packages (from requests<3.0.0.dev0,>=2.18.0->google-api-core[grpc]!=2.0.*,!=2.1.*,!=2.2.*,!=2.3.*,!=2.4.*,!=2.5.*,!=2.6.*,!=2.7.*,<3.0.0dev,>=1.34.1->google-cloud-aiplatform) (3.3.2)\n",
      "Requirement already satisfied: idna<4,>=2.5 in /Users/heikohotz/.pyenv/versions/3.11.7/envs/venv-ape/lib/python3.11/site-packages (from requests<3.0.0.dev0,>=2.18.0->google-api-core[grpc]!=2.0.*,!=2.1.*,!=2.2.*,!=2.3.*,!=2.4.*,!=2.5.*,!=2.6.*,!=2.7.*,<3.0.0dev,>=1.34.1->google-cloud-aiplatform) (3.6)\n",
      "Requirement already satisfied: urllib3<3,>=1.21.1 in /Users/heikohotz/.pyenv/versions/3.11.7/envs/venv-ape/lib/python3.11/site-packages (from requests<3.0.0.dev0,>=2.18.0->google-api-core[grpc]!=2.0.*,!=2.1.*,!=2.2.*,!=2.3.*,!=2.4.*,!=2.5.*,!=2.6.*,!=2.7.*,<3.0.0dev,>=1.34.1->google-cloud-aiplatform) (2.2.1)\n",
      "Requirement already satisfied: certifi>=2017.4.17 in /Users/heikohotz/.pyenv/versions/3.11.7/envs/venv-ape/lib/python3.11/site-packages (from requests<3.0.0.dev0,>=2.18.0->google-api-core[grpc]!=2.0.*,!=2.1.*,!=2.2.*,!=2.3.*,!=2.4.*,!=2.5.*,!=2.6.*,!=2.7.*,<3.0.0dev,>=1.34.1->google-cloud-aiplatform) (2024.2.2)\n",
      "Downloading google_cloud_aiplatform-1.46.0-py2.py3-none-any.whl (4.3 MB)\n",
      "\u001b[2K   \u001b[90m━━━━━━━━━━━━━━━━━━━━━━━━━━━━━━━━━━━━━━━━\u001b[0m \u001b[32m4.3/4.3 MB\u001b[0m \u001b[31m806.5 kB/s\u001b[0m eta \u001b[36m0:00:00\u001b[0m00:01\u001b[0m00:01\u001b[0m\n",
      "\u001b[?25hDownloading docstring_parser-0.16-py3-none-any.whl (36 kB)\n",
      "Installing collected packages: docstring-parser, google-cloud-aiplatform\n",
      "  Attempting uninstall: google-cloud-aiplatform\n",
      "    Found existing installation: google-cloud-aiplatform 1.44.0\n",
      "    Uninstalling google-cloud-aiplatform-1.44.0:\n",
      "      Successfully uninstalled google-cloud-aiplatform-1.44.0\n",
      "Successfully installed docstring-parser-0.16 google-cloud-aiplatform-1.46.0\n",
      "\n",
      "\u001b[1m[\u001b[0m\u001b[34;49mnotice\u001b[0m\u001b[1;39;49m]\u001b[0m\u001b[39;49m A new release of pip is available: \u001b[0m\u001b[31;49m23.2.1\u001b[0m\u001b[39;49m -> \u001b[0m\u001b[32;49m24.0\u001b[0m\n",
      "\u001b[1m[\u001b[0m\u001b[34;49mnotice\u001b[0m\u001b[1;39;49m]\u001b[0m\u001b[39;49m To update, run: \u001b[0m\u001b[32;49mpip install --upgrade pip\u001b[0m\n",
      "Requirement already satisfied: Jinja2 in /Users/heikohotz/.pyenv/versions/3.11.7/envs/venv-ape/lib/python3.11/site-packages (3.1.3)\n",
      "Requirement already satisfied: MarkupSafe>=2.0 in /Users/heikohotz/.pyenv/versions/3.11.7/envs/venv-ape/lib/python3.11/site-packages (from Jinja2) (2.1.5)\n",
      "\n",
      "\u001b[1m[\u001b[0m\u001b[34;49mnotice\u001b[0m\u001b[1;39;49m]\u001b[0m\u001b[39;49m A new release of pip is available: \u001b[0m\u001b[31;49m23.2.1\u001b[0m\u001b[39;49m -> \u001b[0m\u001b[32;49m24.0\u001b[0m\n",
      "\u001b[1m[\u001b[0m\u001b[34;49mnotice\u001b[0m\u001b[1;39;49m]\u001b[0m\u001b[39;49m To update, run: \u001b[0m\u001b[32;49mpip install --upgrade pip\u001b[0m\n"
     ]
    }
   ],
   "source": [
    "!pip install --upgrade google-cloud-aiplatform\n",
    "!pip install Jinja2"
   ]
  },
  {
   "cell_type": "code",
   "execution_count": null,
   "metadata": {},
   "outputs": [],
   "source": [
    "import os\n",
    "import sys\n",
    "\n",
    "IS_COLAB = \"google.colab\" in sys.modules\n",
    "if not IS_COLAB:\n",
    "    raise ValueError(\"This notebook should be run using Google Colab.\")\n",
    "\n",
    "if not os.path.exists(\"/opt/deeplearning/metadata/env_version\") and not os.getenv(\n",
    "    \"DL_ANACONDA_HOME\"\n",
    "):\n",
    "    if \"google.colab\" in sys.modules:\n",
    "        from google.colab import auth as google_auth\n",
    "\n",
    "        google_auth.authenticate_user()"
   ]
  },
  {
   "cell_type": "code",
   "execution_count": 29,
   "metadata": {},
   "outputs": [],
   "source": [
    "import vertexai\n",
    "\n",
    "project_id = \"cloud-llm-preview1\"\n",
    "vertexai.init(project=project_id)"
   ]
  },
  {
   "cell_type": "code",
   "execution_count": 30,
   "metadata": {},
   "outputs": [],
   "source": [
    "from vertexai.generative_models import GenerativeModel\n",
    "\n",
    "gemini_pro = GenerativeModel(\"gemini-1.0-pro\")"
   ]
  },
  {
   "cell_type": "markdown",
   "metadata": {},
   "source": [
    "## Zero shot attempt"
   ]
  },
  {
   "cell_type": "markdown",
   "metadata": {},
   "source": [
    "Let's first try to use Gemini Pro for a mathematical text question"
   ]
  },
  {
   "cell_type": "code",
   "execution_count": 31,
   "metadata": {},
   "outputs": [],
   "source": [
    "prompt = \"\"\"Given the fields `question`, produce the fields `answer`.\n",
    "\n",
    "Question: Heather is going to sew 150 aprons that are to be used for a kiddie crew program.\n",
    "She already was able to sew 13 aprons, and today, she sewed three times as many aprons.\n",
    "How many aprons should she sew tomorrow if she wants to sew half of the remaining number of aprons needed?\n",
    "\n",
    "Answer:\"\"\"\n",
    "\n",
    "# The correct answer is 49."
   ]
  },
  {
   "cell_type": "code",
   "execution_count": 32,
   "metadata": {},
   "outputs": [],
   "source": [
    "config = {\"temperature\": 0.1}"
   ]
  },
  {
   "cell_type": "code",
   "execution_count": 33,
   "metadata": {},
   "outputs": [
    {
     "name": "stdout",
     "output_type": "stream",
     "text": [
      "Answer: 69\n"
     ]
    }
   ],
   "source": [
    "response = gemini_pro.generate_content(contents=prompt, generation_config=config)\n",
    "print(response.text)"
   ]
  },
  {
   "cell_type": "markdown",
   "metadata": {},
   "source": [
    "We can see that Gemini Pro got this one wrong. Let's use best practices including Chain of thought and few shot prompting to improve Gemini's performance!"
   ]
  },
  {
   "cell_type": "markdown",
   "metadata": {},
   "source": [
    "## Few shot prompting with Chain of Thought"
   ]
  },
  {
   "cell_type": "code",
   "execution_count": 34,
   "metadata": {},
   "outputs": [],
   "source": [
    "prompt = \"\"\"Given the fields `question`, produce the fields `answer`.\n",
    "\n",
    "---\n",
    "\n",
    "Follow the following format.\n",
    "\n",
    "Question: <Question>\n",
    "Rationale: Let's think step by step ...\n",
    "Answer: <Answer>\n",
    "\n",
    "---\n",
    "\n",
    "Question: A gumball machine has red, green, and blue gumballs. The machine has half as many blue gumballs as red gumballs.\n",
    "For each blue gumball, the machine has 4 times as many green gumballs. If the machine has 16 red gumballs how many gumballs are in the machine?\n",
    "Rationale: Let's think step by step.\n",
    "First, we can find the number of blue gumballs in the machine.\n",
    "Since the machine has half as many blue gumballs as red gumballs, and there are 16 red gumballs, there must be 16 / 2 = 8 blue gumballs.\n",
    "Next, we can find the number of green gumballs in the machine.\n",
    "Since the machine has 4 times as many green gumballs as blue gumballs, there must be 8 x 4 = 32 green gumballs.\n",
    "Finally, we can add up the number of red, blue, and green gumballs to find the total number of gumballs in the machine: 16 + 8 + 32 = 56.\n",
    "Answer: 56\n",
    "\n",
    "---\n",
    "\n",
    "Question: Rachel makes $12.00 as a waitress in a coffee shop. In one hour, she serves 20 different people and they all leave her a $1.25 tip. How much money did she make in that hour?\n",
    "Rationale: Let's think step by step.\n",
    "First, we need to find out how much money Rachel made from tips. She served 20 people and each person left her a $1.25 tip, so she made 20 * $1.25 = $25.00 in tips.\n",
    "Next, we need to add her hourly wage to the money she made from tips to find out how much money she made in total. She made $12.00 per hour, so in one hour she made $12.00 + $25.00 = $37.00.\n",
    "Answer: 37\n",
    "\n",
    "---\n",
    "\n",
    "Question: Heather is going to sew 150 aprons that are to be used for a kiddie crew program. She already was able to sew 13 aprons, and today, she sewed three times as many aprons. How many aprons should she sew tomorrow if she wants to sew half of the remaining number of aprons needed?\n",
    "Rationale:\"\"\""
   ]
  },
  {
   "cell_type": "code",
   "execution_count": 35,
   "metadata": {},
   "outputs": [
    {
     "name": "stdout",
     "output_type": "stream",
     "text": [
      "Let's think step by step.\n",
      "First, we need to find out how many aprons Heather has left to sew. She needs to sew 150 aprons in total, and she has already sewn 13 aprons, so she has 150 - 13 = 137 aprons left to sew.\n",
      "Next, we need to find out how many aprons Heather sewed today. She sewed three times as many aprons as she already had, so she sewed 3 * 13 = 39 aprons today.\n",
      "Now, we need to find out how many aprons Heather has left to sew after today. She has 137 aprons left to sew, and she sewed 39 aprons today, so she has 137 - 39 = 98 aprons left to sew.\n",
      "Finally, we need to find out how many aprons Heather should sew tomorrow if she wants to sew half of the remaining number of aprons needed. She has 98 aprons left to sew, and she wants to sew half of them, so she should sew 98 / 2 = 49 aprons tomorrow.\n",
      "Answer: 49\n"
     ]
    }
   ],
   "source": [
    "response = gemini_pro.generate_content(contents=prompt, generation_config=config)\n",
    "print(response.text)"
   ]
  },
  {
   "cell_type": "markdown",
   "metadata": {},
   "source": [
    "Nice, this worked!\n",
    "\n",
    "Now we have a good a good prompt for our model and the task at hand (mathematical text questions). But there are a few issues:\n",
    "* Our prompt works well on our model, but what if we want to use another model or another version (e.g. Gemini Ultra of Gemini 1.5)? Will it still work for those models?\n",
    "* We had to develop a few examples, and especially coming up with the rationale for each example was tedious\n",
    "\n",
    "The question is, could we automate this process so that next time we need to repeat this exercise we can just automatically create few shot examples that are optimised for our model and the task at hand?"
   ]
  },
  {
   "cell_type": "markdown",
   "metadata": {},
   "source": [
    "# Automated prompt engineering with DSPy"
   ]
  },
  {
   "cell_type": "markdown",
   "metadata": {},
   "source": [
    "DSPy is a library that allows us to automate this process. Let's see how it works."
   ]
  },
  {
   "cell_type": "markdown",
   "metadata": {},
   "source": [
    "## Setup"
   ]
  },
  {
   "cell_type": "code",
   "execution_count": 36,
   "metadata": {},
   "outputs": [],
   "source": [
    "import dspy"
   ]
  },
  {
   "cell_type": "code",
   "execution_count": 37,
   "metadata": {},
   "outputs": [],
   "source": [
    "dspy_gemini_pro = dspy.GoogleVertexAI(\n",
    "    \"gemini-1.0-pro\",\n",
    "    temperature=0,\n",
    ")\n",
    "\n",
    "dspy.settings.configure(lm=dspy_gemini_pro)"
   ]
  },
  {
   "cell_type": "markdown",
   "metadata": {},
   "source": [
    "## Dataset"
   ]
  },
  {
   "cell_type": "markdown",
   "metadata": {},
   "source": [
    "We will use the [GSM8K dataset](https://paperswithcode.com/dataset/gsm8k) which consists of inguistically diverse grade school math word problems."
   ]
  },
  {
   "cell_type": "code",
   "execution_count": 38,
   "metadata": {},
   "outputs": [
    {
     "name": "stderr",
     "output_type": "stream",
     "text": [
      "100%|██████████| 7473/7473 [00:00<00:00, 67643.64it/s]\n",
      "100%|██████████| 1319/1319 [00:00<00:00, 66646.03it/s]\n"
     ]
    }
   ],
   "source": [
    "from dspy.datasets.gsm8k import GSM8K, gsm8k_metric\n",
    "\n",
    "gms8k = GSM8K()"
   ]
  },
  {
   "cell_type": "code",
   "execution_count": 39,
   "metadata": {},
   "outputs": [],
   "source": [
    "train, val, test = gms8k.train[:60], gms8k.dev[:20], gms8k.test[:20]"
   ]
  },
  {
   "cell_type": "code",
   "execution_count": 40,
   "metadata": {},
   "outputs": [
    {
     "data": {
      "text/plain": [
       "Example({'question': \"The result from the 40-item Statistics exam Marion and Ella took already came out. Ella got 4 incorrect answers while Marion got 6 more than half the score of Ella. What is Marion's score?\", 'gold_reasoning': \"Ella's score is 40 items - 4 items = <<40-4=36>>36 items. Half of Ella's score is 36 items / 2 = <<36/2=18>>18 items. So, Marion's score is 18 items + 6 items = <<18+6=24>>24 items.\", 'answer': '24'}) (input_keys={'question'})"
      ]
     },
     "execution_count": 40,
     "metadata": {},
     "output_type": "execute_result"
    }
   ],
   "source": [
    "train[0]"
   ]
  },
  {
   "cell_type": "code",
   "execution_count": 41,
   "metadata": {},
   "outputs": [
    {
     "data": {
      "text/plain": [
       "\"Ella's score is 40 items - 4 items = <<40-4=36>>36 items. Half of Ella's score is 36 items / 2 = <<36/2=18>>18 items. So, Marion's score is 18 items + 6 items = <<18+6=24>>24 items.\""
      ]
     },
     "execution_count": 41,
     "metadata": {},
     "output_type": "execute_result"
    }
   ],
   "source": [
    "train[0].gold_reasoning"
   ]
  },
  {
   "cell_type": "markdown",
   "metadata": {},
   "source": [
    "We can see that the dataset has a field `gold_resoning`, which already provides reasoning. Since this is what we want to automate, let's delete these for the training and validation datasets."
   ]
  },
  {
   "cell_type": "code",
   "execution_count": 42,
   "metadata": {},
   "outputs": [],
   "source": [
    "# Iterate through datasets and modify the dicts\n",
    "for dataset in [train, val]:\n",
    "    for example in dataset:\n",
    "        example[\"gold_reasoning\"] = \"\""
   ]
  },
  {
   "cell_type": "code",
   "execution_count": 43,
   "metadata": {},
   "outputs": [
    {
     "data": {
      "text/plain": [
       "''"
      ]
     },
     "execution_count": 43,
     "metadata": {},
     "output_type": "execute_result"
    }
   ],
   "source": [
    "train[0].gold_reasoning"
   ]
  },
  {
   "cell_type": "markdown",
   "metadata": {},
   "source": [
    "## Defining the signature"
   ]
  },
  {
   "cell_type": "markdown",
   "metadata": {},
   "source": [
    "Signatures allow you tell the LM what it needs to do, rather than specify how we should ask the LM to do it."
   ]
  },
  {
   "cell_type": "code",
   "execution_count": 44,
   "metadata": {},
   "outputs": [],
   "source": [
    "class GSM8KSignature(dspy.Signature):\n",
    "    \"\"\"Answer math problems with numbers or short phrases.\"\"\"\n",
    "\n",
    "    question = dspy.InputField()\n",
    "    answer = dspy.OutputField(desc=\"Usually a number or short phrase.\")"
   ]
  },
  {
   "cell_type": "markdown",
   "metadata": {},
   "source": [
    "Now we can use this signature to run a test with Gemini."
   ]
  },
  {
   "cell_type": "code",
   "execution_count": 45,
   "metadata": {},
   "outputs": [
    {
     "name": "stdout",
     "output_type": "stream",
     "text": [
      "Question: Amber, Micah, and Ahito ran 52 miles in total. Amber ran 8 miles. Micah ran 3.5 times what Amber ran. How many miles did Ahito run?\n",
      "Predicted Answer: 26.5 miles\n",
      "Actual Answer: 16\n"
     ]
    }
   ],
   "source": [
    "generate_answer = dspy.Predict(GSM8KSignature)\n",
    "pred = generate_answer(question=test[0].question)\n",
    "\n",
    "print(f\"Question: {test[0].question}\")\n",
    "print(f\"Predicted Answer: {pred.answer}\")\n",
    "print(f\"Actual Answer: {test[0].answer}\")"
   ]
  },
  {
   "cell_type": "code",
   "execution_count": 46,
   "metadata": {},
   "outputs": [
    {
     "name": "stdout",
     "output_type": "stream",
     "text": [
      "\n",
      "\n",
      "\n",
      "\n",
      "Answer math problems with numbers or short phrases.\n",
      "\n",
      "---\n",
      "\n",
      "Follow the following format.\n",
      "\n",
      "Question: ${question}\n",
      "Answer: Usually a number or short phrase.\n",
      "\n",
      "---\n",
      "\n",
      "Question: Amber, Micah, and Ahito ran 52 miles in total. Amber ran 8 miles. Micah ran 3.5 times what Amber ran. How many miles did Ahito run?\n",
      "Answer:\u001b[32m26.5 miles\u001b[0m\n",
      "\n",
      "\n",
      "\n"
     ]
    }
   ],
   "source": [
    "dspy_gemini_pro.inspect_history(n=1)"
   ]
  },
  {
   "cell_type": "markdown",
   "metadata": {},
   "source": [
    "Similar to above Gemini didn't get this one right. Let's evaluate Gemini of the test dataset to establish a baseline."
   ]
  },
  {
   "cell_type": "markdown",
   "metadata": {},
   "source": [
    "## Model evaluation with zero shot"
   ]
  },
  {
   "cell_type": "markdown",
   "metadata": {},
   "source": [
    "To run the evaluation programmatically we define a DSPy module These modules abstract a prompting technique (like chain of thought or ReAct). Crucially, they are generalized to handle any DSPy Signature."
   ]
  },
  {
   "cell_type": "code",
   "execution_count": 47,
   "metadata": {},
   "outputs": [],
   "source": [
    "class GSM8KModule(dspy.Module):\n",
    "    def __init__(self):\n",
    "        super().__init__()\n",
    "        # here we use the dspy.Predict module which uses zero shot prompting to generate answers\n",
    "        self.prog = dspy.Predict(GSM8KSignature) \n",
    "\n",
    "    def forward(self, question):\n",
    "        return self.prog(question=question)"
   ]
  },
  {
   "cell_type": "code",
   "execution_count": 48,
   "metadata": {},
   "outputs": [],
   "source": [
    "gsm8k_zero_shot = GSM8KModule()"
   ]
  },
  {
   "cell_type": "code",
   "execution_count": 49,
   "metadata": {},
   "outputs": [],
   "source": [
    "from dspy.evaluate import Evaluate\n",
    "\n",
    "NUM_THREADS = 4 # number of threads to use for parallel processing\n",
    "evaluate = Evaluate(\n",
    "    devset=test, # the test set\n",
    "    metric=gsm8k_metric, # the metric to use -> this will convert responses to integers to compare with the gold answers\n",
    "    num_threads=NUM_THREADS,\n",
    "    display_progress=True,\n",
    "    display_table=20, # how many rows to display\n",
    ")"
   ]
  },
  {
   "cell_type": "code",
   "execution_count": 50,
   "metadata": {},
   "outputs": [
    {
     "name": "stderr",
     "output_type": "stream",
     "text": [
      "Average Metric: 7 / 20  (35.0): 100%|██████████| 20/20 [00:02<00:00,  6.96it/s]"
     ]
    },
    {
     "name": "stdout",
     "output_type": "stream",
     "text": [
      "Average Metric: 7 / 20  (35.0%)\n"
     ]
    },
    {
     "name": "stderr",
     "output_type": "stream",
     "text": [
      "\n",
      "/Users/heikohotz/.pyenv/versions/3.11.7/envs/venv-ape/lib/python3.11/site-packages/dspy/evaluate/evaluate.py:266: FutureWarning: Setting an item of incompatible dtype is deprecated and will raise in a future error of pandas. Value '['False' '✔️ [True]' '✔️ [True]' 'False' 'False' 'False' 'False' 'False'\n",
      " 'False' 'False' '✔️ [True]' '✔️ [True]' 'False' '✔️ [True]' 'False'\n",
      " 'False' '✔️ [True]' 'False' '✔️ [True]' 'False']' has dtype incompatible with bool, please explicitly cast to a compatible dtype first.\n",
      "  df.loc[:, metric_name] = df[metric_name].apply(\n"
     ]
    },
    {
     "data": {
      "text/html": [
       "<style type=\"text/css\">\n",
       "#T_3054a th {\n",
       "  text-align: left;\n",
       "}\n",
       "#T_3054a td {\n",
       "  text-align: left;\n",
       "}\n",
       "#T_3054a_row0_col0, #T_3054a_row0_col1, #T_3054a_row0_col2, #T_3054a_row0_col3, #T_3054a_row0_col4, #T_3054a_row1_col0, #T_3054a_row1_col1, #T_3054a_row1_col2, #T_3054a_row1_col3, #T_3054a_row1_col4, #T_3054a_row2_col0, #T_3054a_row2_col1, #T_3054a_row2_col2, #T_3054a_row2_col3, #T_3054a_row2_col4, #T_3054a_row3_col0, #T_3054a_row3_col1, #T_3054a_row3_col2, #T_3054a_row3_col3, #T_3054a_row3_col4, #T_3054a_row4_col0, #T_3054a_row4_col1, #T_3054a_row4_col2, #T_3054a_row4_col3, #T_3054a_row4_col4, #T_3054a_row5_col0, #T_3054a_row5_col1, #T_3054a_row5_col2, #T_3054a_row5_col3, #T_3054a_row5_col4, #T_3054a_row6_col0, #T_3054a_row6_col1, #T_3054a_row6_col2, #T_3054a_row6_col3, #T_3054a_row6_col4, #T_3054a_row7_col0, #T_3054a_row7_col1, #T_3054a_row7_col2, #T_3054a_row7_col3, #T_3054a_row7_col4, #T_3054a_row8_col0, #T_3054a_row8_col1, #T_3054a_row8_col2, #T_3054a_row8_col3, #T_3054a_row8_col4, #T_3054a_row9_col0, #T_3054a_row9_col1, #T_3054a_row9_col2, #T_3054a_row9_col3, #T_3054a_row9_col4, #T_3054a_row10_col0, #T_3054a_row10_col1, #T_3054a_row10_col2, #T_3054a_row10_col3, #T_3054a_row10_col4, #T_3054a_row11_col0, #T_3054a_row11_col1, #T_3054a_row11_col2, #T_3054a_row11_col3, #T_3054a_row11_col4, #T_3054a_row12_col0, #T_3054a_row12_col1, #T_3054a_row12_col2, #T_3054a_row12_col3, #T_3054a_row12_col4, #T_3054a_row13_col0, #T_3054a_row13_col1, #T_3054a_row13_col2, #T_3054a_row13_col3, #T_3054a_row13_col4, #T_3054a_row14_col0, #T_3054a_row14_col1, #T_3054a_row14_col2, #T_3054a_row14_col3, #T_3054a_row14_col4, #T_3054a_row15_col0, #T_3054a_row15_col1, #T_3054a_row15_col2, #T_3054a_row15_col3, #T_3054a_row15_col4, #T_3054a_row16_col0, #T_3054a_row16_col1, #T_3054a_row16_col2, #T_3054a_row16_col3, #T_3054a_row16_col4, #T_3054a_row17_col0, #T_3054a_row17_col1, #T_3054a_row17_col2, #T_3054a_row17_col3, #T_3054a_row17_col4, #T_3054a_row18_col0, #T_3054a_row18_col1, #T_3054a_row18_col2, #T_3054a_row18_col3, #T_3054a_row18_col4, #T_3054a_row19_col0, #T_3054a_row19_col1, #T_3054a_row19_col2, #T_3054a_row19_col3, #T_3054a_row19_col4 {\n",
       "  text-align: left;\n",
       "  white-space: pre-wrap;\n",
       "  word-wrap: break-word;\n",
       "  max-width: 400px;\n",
       "}\n",
       "</style>\n",
       "<table id=\"T_3054a\">\n",
       "  <thead>\n",
       "    <tr>\n",
       "      <th class=\"blank level0\" >&nbsp;</th>\n",
       "      <th id=\"T_3054a_level0_col0\" class=\"col_heading level0 col0\" >question</th>\n",
       "      <th id=\"T_3054a_level0_col1\" class=\"col_heading level0 col1\" >gold_reasoning</th>\n",
       "      <th id=\"T_3054a_level0_col2\" class=\"col_heading level0 col2\" >example_answer</th>\n",
       "      <th id=\"T_3054a_level0_col3\" class=\"col_heading level0 col3\" >pred_answer</th>\n",
       "      <th id=\"T_3054a_level0_col4\" class=\"col_heading level0 col4\" >gsm8k_metric</th>\n",
       "    </tr>\n",
       "  </thead>\n",
       "  <tbody>\n",
       "    <tr>\n",
       "      <th id=\"T_3054a_level0_row0\" class=\"row_heading level0 row0\" >0</th>\n",
       "      <td id=\"T_3054a_row0_col0\" class=\"data row0 col0\" >Amber, Micah, and Ahito ran 52 miles in total. Amber ran 8 miles. Micah ran 3.5 times what Amber ran. How many miles did Ahito...</td>\n",
       "      <td id=\"T_3054a_row0_col1\" class=\"data row0 col1\" >Amber ran <<8=8>>8 miles. Micah ran 3.5 * 8 miles = <<3.5*8=28>>28 miles Ahito ran the rest = 52 - 8 - 28 = <<52-8-28=16>>16...</td>\n",
       "      <td id=\"T_3054a_row0_col2\" class=\"data row0 col2\" >16</td>\n",
       "      <td id=\"T_3054a_row0_col3\" class=\"data row0 col3\" >26.5 miles</td>\n",
       "      <td id=\"T_3054a_row0_col4\" class=\"data row0 col4\" >False</td>\n",
       "    </tr>\n",
       "    <tr>\n",
       "      <th id=\"T_3054a_level0_row1\" class=\"row_heading level0 row1\" >1</th>\n",
       "      <td id=\"T_3054a_row1_col0\" class=\"data row1 col0\" >Miguel uses 2 pads of paper a week for his drawing. If there are 30 sheets of paper on a pad of paper, how many...</td>\n",
       "      <td id=\"T_3054a_row1_col1\" class=\"data row1 col1\" >Miguel uses 30 x 2 = <<30*2=60>>60 sheets of paper every week. Therefore, he uses 60 x 4 = <<60*4=240>>240 sheets of paper every month.</td>\n",
       "      <td id=\"T_3054a_row1_col2\" class=\"data row1 col2\" >240</td>\n",
       "      <td id=\"T_3054a_row1_col3\" class=\"data row1 col3\" >240 sheets</td>\n",
       "      <td id=\"T_3054a_row1_col4\" class=\"data row1 col4\" >✔️ [True]</td>\n",
       "    </tr>\n",
       "    <tr>\n",
       "      <th id=\"T_3054a_level0_row2\" class=\"row_heading level0 row2\" >2</th>\n",
       "      <td id=\"T_3054a_row2_col0\" class=\"data row2 col0\" >At a certain grade level, three-fourths of students have a desktop computer at home. If 20 students do not have desktop computers, how many students...</td>\n",
       "      <td id=\"T_3054a_row2_col1\" class=\"data row2 col1\" >Twenty students represent 1 - 3/4 = 1/4 of the students at that level. So, there are 4 x 20 students = <<4*20=80>>80 students at...</td>\n",
       "      <td id=\"T_3054a_row2_col2\" class=\"data row2 col2\" >80</td>\n",
       "      <td id=\"T_3054a_row2_col3\" class=\"data row2 col3\" >80</td>\n",
       "      <td id=\"T_3054a_row2_col4\" class=\"data row2 col4\" >✔️ [True]</td>\n",
       "    </tr>\n",
       "    <tr>\n",
       "      <th id=\"T_3054a_level0_row3\" class=\"row_heading level0 row3\" >3</th>\n",
       "      <td id=\"T_3054a_row3_col0\" class=\"data row3 col0\" >Comet Halley orbits the sun every 75 years. Bill's dad saw the Comet when he was 30 years old. Bill saw the comet a second...</td>\n",
       "      <td id=\"T_3054a_row3_col1\" class=\"data row3 col1\" >Bill saw the Comet for the second time when he was 30 years * 3= <<30*3=90>>90 years old. Comet Halley can be seen every 75...</td>\n",
       "      <td id=\"T_3054a_row3_col2\" class=\"data row3 col2\" >15</td>\n",
       "      <td id=\"T_3054a_row3_col3\" class=\"data row3 col3\" >60</td>\n",
       "      <td id=\"T_3054a_row3_col4\" class=\"data row3 col4\" >False</td>\n",
       "    </tr>\n",
       "    <tr>\n",
       "      <th id=\"T_3054a_level0_row4\" class=\"row_heading level0 row4\" >4</th>\n",
       "      <td id=\"T_3054a_row4_col0\" class=\"data row4 col0\" >Tom plants 10 trees a year. Every year he also chops down 2 trees a year. He starts with 50 trees. After 10 years 30%...</td>\n",
       "      <td id=\"T_3054a_row4_col1\" class=\"data row4 col1\" >He gets 10-2=<<10-2=8>>8 new trees a year After 10 years he has 8*10=<<8*10=80>>80 new trees So he had 80+50=<<80+50=130>>130 trees He lost 130*.3=<<130*.3=39>>39 trees That...</td>\n",
       "      <td id=\"T_3054a_row4_col2\" class=\"data row4 col2\" >91</td>\n",
       "      <td id=\"T_3054a_row4_col3\" class=\"data row4 col3\" >35</td>\n",
       "      <td id=\"T_3054a_row4_col4\" class=\"data row4 col4\" >False</td>\n",
       "    </tr>\n",
       "    <tr>\n",
       "      <th id=\"T_3054a_level0_row5\" class=\"row_heading level0 row5\" >5</th>\n",
       "      <td id=\"T_3054a_row5_col0\" class=\"data row5 col0\" >John picks 4 bananas on Wednesday. Then he picks 6 bananas on Thursday. On Friday, he picks triple the number of bananas he did on...</td>\n",
       "      <td id=\"T_3054a_row5_col1\" class=\"data row5 col1\" >Combining Wednesday and Thursday, John has 4 bananas + 6 bananas = <<4+6=10>>10 bananas. On Friday, he picks 3 * 4 bananas = <<3*4=12>>12 bananas....</td>\n",
       "      <td id=\"T_3054a_row5_col2\" class=\"data row5 col2\" >22</td>\n",
       "      <td id=\"T_3054a_row5_col3\" class=\"data row5 col3\" >18 bananas</td>\n",
       "      <td id=\"T_3054a_row5_col4\" class=\"data row5 col4\" >False</td>\n",
       "    </tr>\n",
       "    <tr>\n",
       "      <th id=\"T_3054a_level0_row6\" class=\"row_heading level0 row6\" >6</th>\n",
       "      <td id=\"T_3054a_row6_col0\" class=\"data row6 col0\" >Peyton scheduled after-work activities of a one hour yoga class on Monday, a cooking class that lasts three times as long as Monday’s yoga on...</td>\n",
       "      <td id=\"T_3054a_row6_col1\" class=\"data row6 col1\" >Peyton’s cooking class will last 3 * 1 = <<3*1=3>>3 hours. The museum tour will take 3 / 2 = 1 1/2 hours. Peyton’s after-work...</td>\n",
       "      <td id=\"T_3054a_row6_col2\" class=\"data row6 col2\" >8</td>\n",
       "      <td id=\"T_3054a_row6_col3\" class=\"data row6 col3\" >6.5 hours</td>\n",
       "      <td id=\"T_3054a_row6_col4\" class=\"data row6 col4\" >False</td>\n",
       "    </tr>\n",
       "    <tr>\n",
       "      <th id=\"T_3054a_level0_row7\" class=\"row_heading level0 row7\" >7</th>\n",
       "      <td id=\"T_3054a_row7_col0\" class=\"data row7 col0\" >Ben has 4 tubes of blue paint and 3 tubes of yellow paint. Jasper has half as many tubes of blue paint as Ben, and...</td>\n",
       "      <td id=\"T_3054a_row7_col1\" class=\"data row7 col1\" >Jasper has 4/2= <<4/2=2>>2 tubes of blue paint Jasper has 3*3=<<3*3=9>>9 tubes of yellow paint Jasper has a total of 2+9 =<<2+9=11>>11 tubes of paint</td>\n",
       "      <td id=\"T_3054a_row7_col2\" class=\"data row7 col2\" >11</td>\n",
       "      <td id=\"T_3054a_row7_col3\" class=\"data row7 col3\" >10</td>\n",
       "      <td id=\"T_3054a_row7_col4\" class=\"data row7 col4\" >False</td>\n",
       "    </tr>\n",
       "    <tr>\n",
       "      <th id=\"T_3054a_level0_row8\" class=\"row_heading level0 row8\" >8</th>\n",
       "      <td id=\"T_3054a_row8_col0\" class=\"data row8 col0\" >Elaina is holding the final concert in her tour. To celebrate her final concert, she makes the concert twice as long as her usual concerts....</td>\n",
       "      <td id=\"T_3054a_row8_col1\" class=\"data row8 col1\" >The concert, minus the encore, lasted for 65-minute concert – 15-minute encore = <<65-15=50>>50 minutes. This is twice as long as her usual concerts so...</td>\n",
       "      <td id=\"T_3054a_row8_col2\" class=\"data row8 col2\" >25</td>\n",
       "      <td id=\"T_3054a_row8_col3\" class=\"data row8 col3\" >30 minutes</td>\n",
       "      <td id=\"T_3054a_row8_col4\" class=\"data row8 col4\" >False</td>\n",
       "    </tr>\n",
       "    <tr>\n",
       "      <th id=\"T_3054a_level0_row9\" class=\"row_heading level0 row9\" >9</th>\n",
       "      <td id=\"T_3054a_row9_col0\" class=\"data row9 col0\" >Hannah slips on a banana peel and breaks her arm. The doctor charges her $200 for the cast, $300/hour for a 30-minute visit, $4/pill for...</td>\n",
       "      <td id=\"T_3054a_row9_col1\" class=\"data row9 col1\" >First find the length of the visit in hours: 30 minutes / 60 minutes/hour = <<30/60=.5>>.5 hours Then find the total cost of the visit:...</td>\n",
       "      <td id=\"T_3054a_row9_col2\" class=\"data row9 col2\" >482</td>\n",
       "      <td id=\"T_3054a_row9_col3\" class=\"data row9 col3\" >$804</td>\n",
       "      <td id=\"T_3054a_row9_col4\" class=\"data row9 col4\" >False</td>\n",
       "    </tr>\n",
       "    <tr>\n",
       "      <th id=\"T_3054a_level0_row10\" class=\"row_heading level0 row10\" >10</th>\n",
       "      <td id=\"T_3054a_row10_col0\" class=\"data row10 col0\" >A loaf of bread at the bakery costs $2. Bagels cost $1 each. How much more do 3 loaves of bread cost than 2 bagels?</td>\n",
       "      <td id=\"T_3054a_row10_col1\" class=\"data row10 col1\" >3 loaves of bread cost 3 * $2 = $<<3*2=6>>6. 2 bagels cost 2 * $1 = $<<2*1=2>>2. The loaves of bread cost $6 -...</td>\n",
       "      <td id=\"T_3054a_row10_col2\" class=\"data row10 col2\" >4</td>\n",
       "      <td id=\"T_3054a_row10_col3\" class=\"data row10 col3\" >$4</td>\n",
       "      <td id=\"T_3054a_row10_col4\" class=\"data row10 col4\" >✔️ [True]</td>\n",
       "    </tr>\n",
       "    <tr>\n",
       "      <th id=\"T_3054a_level0_row11\" class=\"row_heading level0 row11\" >11</th>\n",
       "      <td id=\"T_3054a_row11_col0\" class=\"data row11 col0\" >Bob thinks he needs 56 popsicle sticks to recreate the Washington Monument for his history project. His favorite popsicles come 8 to a box and...</td>\n",
       "      <td id=\"T_3054a_row11_col1\" class=\"data row11 col1\" >He needs 56 popsicle sticks to build his project and they come 8 to a box so he needs 56/8 = <<56/8=7>>7 boxes Each box...</td>\n",
       "      <td id=\"T_3054a_row11_col2\" class=\"data row11 col2\" >14</td>\n",
       "      <td id=\"T_3054a_row11_col3\" class=\"data row11 col3\" >$14.00</td>\n",
       "      <td id=\"T_3054a_row11_col4\" class=\"data row11 col4\" >✔️ [True]</td>\n",
       "    </tr>\n",
       "    <tr>\n",
       "      <th id=\"T_3054a_level0_row12\" class=\"row_heading level0 row12\" >12</th>\n",
       "      <td id=\"T_3054a_row12_col0\" class=\"data row12 col0\" >Dennis uses 1 pound of butter for every dozen croissants that he makes. He needs to make 6 dozen croissants. The grocery store currently has...</td>\n",
       "      <td id=\"T_3054a_row12_col1\" class=\"data row12 col1\" >1 pound of butter makes 1 dozen croissants and he needs to make 6 dozen so he needs 1*6 = <<1*6=6>>6 pounds of butter The...</td>\n",
       "      <td id=\"T_3054a_row12_col2\" class=\"data row12 col2\" >18</td>\n",
       "      <td id=\"T_3054a_row12_col3\" class=\"data row12 col3\" >$16.00</td>\n",
       "      <td id=\"T_3054a_row12_col4\" class=\"data row12 col4\" >False</td>\n",
       "    </tr>\n",
       "    <tr>\n",
       "      <th id=\"T_3054a_level0_row13\" class=\"row_heading level0 row13\" >13</th>\n",
       "      <td id=\"T_3054a_row13_col0\" class=\"data row13 col0\" >Regina wrote 9 novels last year. If this is 3 quarters of the number of novels she has written this year, how many novels has...</td>\n",
       "      <td id=\"T_3054a_row13_col1\" class=\"data row13 col1\" >Number of novels she wrote last year = (3/4)*number of novels she wrote this year 9 = (3/4)*number of novels she wrote this year Multiplying...</td>\n",
       "      <td id=\"T_3054a_row13_col2\" class=\"data row13 col2\" >12</td>\n",
       "      <td id=\"T_3054a_row13_col3\" class=\"data row13 col3\" >12</td>\n",
       "      <td id=\"T_3054a_row13_col4\" class=\"data row13 col4\" >✔️ [True]</td>\n",
       "    </tr>\n",
       "    <tr>\n",
       "      <th id=\"T_3054a_level0_row14\" class=\"row_heading level0 row14\" >14</th>\n",
       "      <td id=\"T_3054a_row14_col0\" class=\"data row14 col0\" >Alex is getting ready to attend an event that she has hosted and wants to make sure that she has enough seats for everyone. She...</td>\n",
       "      <td id=\"T_3054a_row14_col1\" class=\"data row14 col1\" >Each of the people that were emailed are bringing 2 friends, which means that they will be in groups of 1 +2 = <<1+2=3>>3 people....</td>\n",
       "      <td id=\"T_3054a_row14_col2\" class=\"data row14 col2\" >319</td>\n",
       "      <td id=\"T_3054a_row14_col3\" class=\"data row14 col3\" >228</td>\n",
       "      <td id=\"T_3054a_row14_col4\" class=\"data row14 col4\" >False</td>\n",
       "    </tr>\n",
       "    <tr>\n",
       "      <th id=\"T_3054a_level0_row15\" class=\"row_heading level0 row15\" >15</th>\n",
       "      <td id=\"T_3054a_row15_col0\" class=\"data row15 col0\" >Rozanne is making eggnog for her family. She uses 4 dozen eggs that were in cases and another 2 eggs that were loose in the...</td>\n",
       "      <td id=\"T_3054a_row15_col1\" class=\"data row15 col1\" >As a dozen is equivalent to 12 eggs, Rozanne has 4 dozen eggs * 12 = <<4*12=48>>48 eggs in cases. She therefore has a total...</td>\n",
       "      <td id=\"T_3054a_row15_col2\" class=\"data row15 col2\" >2</td>\n",
       "      <td id=\"T_3054a_row15_col3\" class=\"data row15 col3\" >12</td>\n",
       "      <td id=\"T_3054a_row15_col4\" class=\"data row15 col4\" >False</td>\n",
       "    </tr>\n",
       "    <tr>\n",
       "      <th id=\"T_3054a_level0_row16\" class=\"row_heading level0 row16\" >16</th>\n",
       "      <td id=\"T_3054a_row16_col0\" class=\"data row16 col0\" >Matthew has a collection of 12 unique toy soldiers. He wants to sell them for a fair price. He found a buyer who is willing...</td>\n",
       "      <td id=\"T_3054a_row16_col1\" class=\"data row16 col1\" >Half of Matthew collection means 12 * 0.5 = <<12*0.5=6>>6 toy soldiers. A buyer wants to buy 6 toy soldiers for $5, so he would...</td>\n",
       "      <td id=\"T_3054a_row16_col2\" class=\"data row16 col2\" >72</td>\n",
       "      <td id=\"T_3054a_row16_col3\" class=\"data row16 col3\" >$72</td>\n",
       "      <td id=\"T_3054a_row16_col4\" class=\"data row16 col4\" >✔️ [True]</td>\n",
       "    </tr>\n",
       "    <tr>\n",
       "      <th id=\"T_3054a_level0_row17\" class=\"row_heading level0 row17\" >17</th>\n",
       "      <td id=\"T_3054a_row17_col0\" class=\"data row17 col0\" >Mrs. Cruz is looking for a house that will not go beyond her $400 000 budget. She saw a property that has a selling price...</td>\n",
       "      <td id=\"T_3054a_row17_col1\" class=\"data row17 col1\" >The brokerage fee is $350 000 x 5/100 = $<<350000*5/100=17500>>17500. The transfer fee is $350 000 x 12/100 = $<<350000*12/100=42000>>42000. The total price of the...</td>\n",
       "      <td id=\"T_3054a_row17_col2\" class=\"data row17 col2\" >9500</td>\n",
       "      <td id=\"T_3054a_row17_col3\" class=\"data row17 col3\" >$38 000</td>\n",
       "      <td id=\"T_3054a_row17_col4\" class=\"data row17 col4\" >False</td>\n",
       "    </tr>\n",
       "    <tr>\n",
       "      <th id=\"T_3054a_level0_row18\" class=\"row_heading level0 row18\" >18</th>\n",
       "      <td id=\"T_3054a_row18_col0\" class=\"data row18 col0\" >Juan and his brother Carlos are selling lemonade. For each gallon they make it costs $3 for lemons and $2 for sugar. They sell each...</td>\n",
       "      <td id=\"T_3054a_row18_col1\" class=\"data row18 col1\" >Each gallon sells for a total of $10 because 20 x .5 = <<20*.5=10>>10 Each gallon costs $5 to make because 3 + 2 =...</td>\n",
       "      <td id=\"T_3054a_row18_col2\" class=\"data row18 col2\" >15</td>\n",
       "      <td id=\"T_3054a_row18_col3\" class=\"data row18 col3\" >$15</td>\n",
       "      <td id=\"T_3054a_row18_col4\" class=\"data row18 col4\" >✔️ [True]</td>\n",
       "    </tr>\n",
       "    <tr>\n",
       "      <th id=\"T_3054a_level0_row19\" class=\"row_heading level0 row19\" >19</th>\n",
       "      <td id=\"T_3054a_row19_col0\" class=\"data row19 col0\" >When the water is cold Ray swims a mile in 16 minutes. When the water is warm Ray swims a mile in 2 minutes more...</td>\n",
       "      <td id=\"T_3054a_row19_col1\" class=\"data row19 col1\" >Cold water mile = <<16=16>>16 minutes Warm water mile = 2+2(16)=34 minutes 3 miles in cold water: 3(16)=<<3*16=48>>48 minutes 3 miles in warm water: 3(34)=<<3*34=102>>102...</td>\n",
       "      <td id=\"T_3054a_row19_col2\" class=\"data row19 col2\" >54</td>\n",
       "      <td id=\"T_3054a_row19_col3\" class=\"data row19 col3\" >10 minutes</td>\n",
       "      <td id=\"T_3054a_row19_col4\" class=\"data row19 col4\" >False</td>\n",
       "    </tr>\n",
       "  </tbody>\n",
       "</table>\n"
      ],
      "text/plain": [
       "<pandas.io.formats.style.Styler at 0x309eed290>"
      ]
     },
     "metadata": {},
     "output_type": "display_data"
    },
    {
     "data": {
      "text/plain": [
       "35.0"
      ]
     },
     "execution_count": 50,
     "metadata": {},
     "output_type": "execute_result"
    }
   ],
   "source": [
    "evaluate(gsm8k_zero_shot)"
   ]
  },
  {
   "cell_type": "markdown",
   "metadata": {},
   "source": [
    "# Bootstrapping few shot examples"
   ]
  },
  {
   "cell_type": "markdown",
   "metadata": {},
   "source": [
    "Now we will leverage Gemini Ultra to bootstrap few shot examples which will (hopefully) improve Gemini Pro's performance on the test dataset. With Gemini Ultra we will create a few reasoning examples which we can include in the prompt that we will eventually send to Gemini Pro. Ultra will produce a few candidates and test them on a validation dataset using the `gsm8k_metric`, i.e. the metric we want to optimise for. Once the best candidates have been identified these examples will then be used to create a few shot prompt."
   ]
  },
  {
   "cell_type": "markdown",
   "metadata": {},
   "source": [
    "First we define a Chain of Thought module:"
   ]
  },
  {
   "cell_type": "code",
   "execution_count": 51,
   "metadata": {},
   "outputs": [],
   "source": [
    "class ZeroShotCoT(dspy.Module):\n",
    "    def __init__(self):\n",
    "        super().__init__()\n",
    "        self.prog = dspy.ChainOfThought(\n",
    "            GSM8KSignature,\n",
    "        )\n",
    "\n",
    "    def forward(self, question):\n",
    "        return self.prog(question=question)"
   ]
  },
  {
   "cell_type": "code",
   "execution_count": 52,
   "metadata": {},
   "outputs": [],
   "source": [
    "from dspy.teleprompt import BootstrapFewShotWithRandomSearch"
   ]
  },
  {
   "cell_type": "markdown",
   "metadata": {},
   "source": [
    "Now we can start the bootstrapping:"
   ]
  },
  {
   "cell_type": "code",
   "execution_count": 100,
   "metadata": {},
   "outputs": [
    {
     "name": "stdout",
     "output_type": "stream",
     "text": [
      "Going to sample between 1 and 8 traces per predictor.\n",
      "Will attempt to train 2 candidate sets.\n"
     ]
    },
    {
     "name": "stderr",
     "output_type": "stream",
     "text": [
      " 15%|█▌        | 9/60 [00:42<04:00,  4.71s/it]\n"
     ]
    },
    {
     "name": "stdout",
     "output_type": "stream",
     "text": [
      "Bootstrapped 7 full traces after 10 examples in round 0.\n"
     ]
    },
    {
     "name": "stderr",
     "output_type": "stream",
     "text": [
      "Average Metric: 19 / 20  (95.0): 100%|██████████| 20/20 [00:23<00:00,  1.18s/it] \n"
     ]
    },
    {
     "name": "stdout",
     "output_type": "stream",
     "text": [
      "Average Metric: 19 / 20  (95.0%)\n",
      "Score: 95.0 for set: [7]\n",
      "New best score: 95.0 for seed 0\n",
      "Scores so far: [95.0]\n",
      "Best score: 95.0\n"
     ]
    },
    {
     "name": "stderr",
     "output_type": "stream",
     "text": [
      "  5%|▌         | 3/60 [00:12<04:04,  4.29s/it]\n"
     ]
    },
    {
     "name": "stdout",
     "output_type": "stream",
     "text": [
      "Bootstrapped 3 full traces after 4 examples in round 0.\n"
     ]
    },
    {
     "name": "stderr",
     "output_type": "stream",
     "text": [
      "Average Metric: 18 / 20  (90.0): 100%|██████████| 20/20 [00:23<00:00,  1.17s/it]"
     ]
    },
    {
     "name": "stdout",
     "output_type": "stream",
     "text": [
      "Average Metric: 18 / 20  (90.0%)\n",
      "Score: 90.0 for set: [3]\n",
      "Scores so far: [95.0, 90.0]\n",
      "Best score: 95.0\n",
      "2 candidate programs found.\n"
     ]
    },
    {
     "name": "stderr",
     "output_type": "stream",
     "text": [
      "\n"
     ]
    }
   ],
   "source": [
    "from datetime import datetime\n",
    "\n",
    "RUN_FROM_SCRATCH = True\n",
    "bootstrapped_demos = 8 # how many examples are randomly being used from the training dataset\n",
    "labeled_demos = 3 # how many examples will be in final prompt\n",
    "candidate_programs = 2 # how many candidates will be created and evaluated (equivalent to epochs)\n",
    "teacher_model_id = \"gemini-1.0-ultra\" \n",
    "\n",
    "if RUN_FROM_SCRATCH:\n",
    "    dspy_gemini_ultra = dspy.GoogleVertexAI(\n",
    "        teacher_model_id,\n",
    "        temperature=0,\n",
    "    )\n",
    "    dspy.settings.configure(lm=dspy_gemini_ultra, timeout=0)\n",
    "    config = dict(\n",
    "        max_bootstrapped_demos=bootstrapped_demos,\n",
    "        max_labeled_demos=labeled_demos,\n",
    "        num_candidate_programs=candidate_programs,\n",
    "        num_threads=4,\n",
    "        stop_at_score=100.0,\n",
    "    )\n",
    "    bootstrap_optimizer = BootstrapFewShotWithRandomSearch(\n",
    "        metric=gsm8k_metric, **config\n",
    "    )\n",
    "    cot_fewshot = bootstrap_optimizer.compile(ZeroShotCoT(), trainset=train, valset=val, seed_start=0)\n",
    "\n",
    "    # save the bootstrap demonstrations for future use\n",
    "    timestamp_str = datetime.now().strftime(\"%Y%m%d-%H%M%S\")\n",
    "    filename = f\"{timestamp_str}_{teacher_model_id}_{bootstrapped_demos}_{labeled_demos}_{candidate_programs}.json\"\n",
    "    cot_fewshot.save(filename)\n",
    "else:\n",
    "    cot_fewshot = ZeroShotCoT()\n",
    "    cot_fewshot.load(\"20240403-173150_gemini-1.0-ultra_8_3_2.json\")"
   ]
  },
  {
   "cell_type": "markdown",
   "metadata": {},
   "source": [
    "After this step we have our examples ready, and we can test Gemini Pro on the same test dataset as above."
   ]
  },
  {
   "cell_type": "code",
   "execution_count": 101,
   "metadata": {},
   "outputs": [],
   "source": [
    "dspy.settings.configure(lm=dspy_gemini_pro, timeout=0)"
   ]
  },
  {
   "cell_type": "code",
   "execution_count": 104,
   "metadata": {},
   "outputs": [
    {
     "name": "stderr",
     "output_type": "stream",
     "text": [
      "Average Metric: 18 / 20  (90.0): 100%|██████████| 20/20 [00:07<00:00,  2.65it/s]"
     ]
    },
    {
     "name": "stdout",
     "output_type": "stream",
     "text": [
      "Average Metric: 18 / 20  (90.0%)\n"
     ]
    },
    {
     "name": "stderr",
     "output_type": "stream",
     "text": [
      "\n",
      "/Users/heikohotz/.pyenv/versions/3.11.7/envs/venv-ape/lib/python3.11/site-packages/dspy/evaluate/evaluate.py:266: FutureWarning: Setting an item of incompatible dtype is deprecated and will raise in a future error of pandas. Value '['✔️ [True]' '✔️ [True]' '✔️ [True]' 'False' '✔️ [True]' '✔️ [True]'\n",
      " '✔️ [True]' '✔️ [True]' '✔️ [True]' '✔️ [True]' '✔️ [True]' '✔️ [True]'\n",
      " '✔️ [True]' '✔️ [True]' 'False' '✔️ [True]' '✔️ [True]' '✔️ [True]'\n",
      " '✔️ [True]' '✔️ [True]']' has dtype incompatible with bool, please explicitly cast to a compatible dtype first.\n",
      "  df.loc[:, metric_name] = df[metric_name].apply(\n"
     ]
    },
    {
     "data": {
      "text/html": [
       "<style type=\"text/css\">\n",
       "#T_a77c3 th {\n",
       "  text-align: left;\n",
       "}\n",
       "#T_a77c3 td {\n",
       "  text-align: left;\n",
       "}\n",
       "#T_a77c3_row0_col0, #T_a77c3_row0_col1, #T_a77c3_row0_col2, #T_a77c3_row0_col3, #T_a77c3_row0_col4, #T_a77c3_row0_col5, #T_a77c3_row1_col0, #T_a77c3_row1_col1, #T_a77c3_row1_col2, #T_a77c3_row1_col3, #T_a77c3_row1_col4, #T_a77c3_row1_col5, #T_a77c3_row2_col0, #T_a77c3_row2_col1, #T_a77c3_row2_col2, #T_a77c3_row2_col3, #T_a77c3_row2_col4, #T_a77c3_row2_col5, #T_a77c3_row3_col0, #T_a77c3_row3_col1, #T_a77c3_row3_col2, #T_a77c3_row3_col3, #T_a77c3_row3_col4, #T_a77c3_row3_col5, #T_a77c3_row4_col0, #T_a77c3_row4_col1, #T_a77c3_row4_col2, #T_a77c3_row4_col3, #T_a77c3_row4_col4, #T_a77c3_row4_col5, #T_a77c3_row5_col0, #T_a77c3_row5_col1, #T_a77c3_row5_col2, #T_a77c3_row5_col3, #T_a77c3_row5_col4, #T_a77c3_row5_col5, #T_a77c3_row6_col0, #T_a77c3_row6_col1, #T_a77c3_row6_col2, #T_a77c3_row6_col3, #T_a77c3_row6_col4, #T_a77c3_row6_col5, #T_a77c3_row7_col0, #T_a77c3_row7_col1, #T_a77c3_row7_col2, #T_a77c3_row7_col3, #T_a77c3_row7_col4, #T_a77c3_row7_col5, #T_a77c3_row8_col0, #T_a77c3_row8_col1, #T_a77c3_row8_col2, #T_a77c3_row8_col3, #T_a77c3_row8_col4, #T_a77c3_row8_col5, #T_a77c3_row9_col0, #T_a77c3_row9_col1, #T_a77c3_row9_col2, #T_a77c3_row9_col3, #T_a77c3_row9_col4, #T_a77c3_row9_col5, #T_a77c3_row10_col0, #T_a77c3_row10_col1, #T_a77c3_row10_col2, #T_a77c3_row10_col3, #T_a77c3_row10_col4, #T_a77c3_row10_col5, #T_a77c3_row11_col0, #T_a77c3_row11_col1, #T_a77c3_row11_col2, #T_a77c3_row11_col3, #T_a77c3_row11_col4, #T_a77c3_row11_col5, #T_a77c3_row12_col0, #T_a77c3_row12_col1, #T_a77c3_row12_col2, #T_a77c3_row12_col3, #T_a77c3_row12_col4, #T_a77c3_row12_col5, #T_a77c3_row13_col0, #T_a77c3_row13_col1, #T_a77c3_row13_col2, #T_a77c3_row13_col3, #T_a77c3_row13_col4, #T_a77c3_row13_col5, #T_a77c3_row14_col0, #T_a77c3_row14_col1, #T_a77c3_row14_col2, #T_a77c3_row14_col3, #T_a77c3_row14_col4, #T_a77c3_row14_col5, #T_a77c3_row15_col0, #T_a77c3_row15_col1, #T_a77c3_row15_col2, #T_a77c3_row15_col3, #T_a77c3_row15_col4, #T_a77c3_row15_col5, #T_a77c3_row16_col0, #T_a77c3_row16_col1, #T_a77c3_row16_col2, #T_a77c3_row16_col3, #T_a77c3_row16_col4, #T_a77c3_row16_col5, #T_a77c3_row17_col0, #T_a77c3_row17_col1, #T_a77c3_row17_col2, #T_a77c3_row17_col3, #T_a77c3_row17_col4, #T_a77c3_row17_col5, #T_a77c3_row18_col0, #T_a77c3_row18_col1, #T_a77c3_row18_col2, #T_a77c3_row18_col3, #T_a77c3_row18_col4, #T_a77c3_row18_col5, #T_a77c3_row19_col0, #T_a77c3_row19_col1, #T_a77c3_row19_col2, #T_a77c3_row19_col3, #T_a77c3_row19_col4, #T_a77c3_row19_col5 {\n",
       "  text-align: left;\n",
       "  white-space: pre-wrap;\n",
       "  word-wrap: break-word;\n",
       "  max-width: 400px;\n",
       "}\n",
       "</style>\n",
       "<table id=\"T_a77c3\">\n",
       "  <thead>\n",
       "    <tr>\n",
       "      <th class=\"blank level0\" >&nbsp;</th>\n",
       "      <th id=\"T_a77c3_level0_col0\" class=\"col_heading level0 col0\" >question</th>\n",
       "      <th id=\"T_a77c3_level0_col1\" class=\"col_heading level0 col1\" >gold_reasoning</th>\n",
       "      <th id=\"T_a77c3_level0_col2\" class=\"col_heading level0 col2\" >example_answer</th>\n",
       "      <th id=\"T_a77c3_level0_col3\" class=\"col_heading level0 col3\" >rationale</th>\n",
       "      <th id=\"T_a77c3_level0_col4\" class=\"col_heading level0 col4\" >pred_answer</th>\n",
       "      <th id=\"T_a77c3_level0_col5\" class=\"col_heading level0 col5\" >gsm8k_metric</th>\n",
       "    </tr>\n",
       "  </thead>\n",
       "  <tbody>\n",
       "    <tr>\n",
       "      <th id=\"T_a77c3_level0_row0\" class=\"row_heading level0 row0\" >0</th>\n",
       "      <td id=\"T_a77c3_row0_col0\" class=\"data row0 col0\" >Amber, Micah, and Ahito ran 52 miles in total. Amber ran 8 miles. Micah ran 3.5 times what Amber ran. How many miles did Ahito...</td>\n",
       "      <td id=\"T_a77c3_row0_col1\" class=\"data row0 col1\" >Amber ran <<8=8>>8 miles. Micah ran 3.5 * 8 miles = <<3.5*8=28>>28 miles Ahito ran the rest = 52 - 8 - 28 = <<52-8-28=16>>16...</td>\n",
       "      <td id=\"T_a77c3_row0_col2\" class=\"data row0 col2\" >16</td>\n",
       "      <td id=\"T_a77c3_row0_col3\" class=\"data row0 col3\" >find out how many miles Ahito ran. First, let's find out how many miles Micah ran: 3.5 x 8 = 28 miles. Now, let's add...</td>\n",
       "      <td id=\"T_a77c3_row0_col4\" class=\"data row0 col4\" >16</td>\n",
       "      <td id=\"T_a77c3_row0_col5\" class=\"data row0 col5\" >✔️ [True]</td>\n",
       "    </tr>\n",
       "    <tr>\n",
       "      <th id=\"T_a77c3_level0_row1\" class=\"row_heading level0 row1\" >1</th>\n",
       "      <td id=\"T_a77c3_row1_col0\" class=\"data row1 col0\" >Miguel uses 2 pads of paper a week for his drawing. If there are 30 sheets of paper on a pad of paper, how many...</td>\n",
       "      <td id=\"T_a77c3_row1_col1\" class=\"data row1 col1\" >Miguel uses 30 x 2 = <<30*2=60>>60 sheets of paper every week. Therefore, he uses 60 x 4 = <<60*4=240>>240 sheets of paper every month.</td>\n",
       "      <td id=\"T_a77c3_row1_col2\" class=\"data row1 col2\" >240</td>\n",
       "      <td id=\"T_a77c3_row1_col3\" class=\"data row1 col3\" >find the number of sheets of paper Miguel uses every month. First, we need to find the total number of pads of paper he uses...</td>\n",
       "      <td id=\"T_a77c3_row1_col4\" class=\"data row1 col4\" >240</td>\n",
       "      <td id=\"T_a77c3_row1_col5\" class=\"data row1 col5\" >✔️ [True]</td>\n",
       "    </tr>\n",
       "    <tr>\n",
       "      <th id=\"T_a77c3_level0_row2\" class=\"row_heading level0 row2\" >2</th>\n",
       "      <td id=\"T_a77c3_row2_col0\" class=\"data row2 col0\" >At a certain grade level, three-fourths of students have a desktop computer at home. If 20 students do not have desktop computers, how many students...</td>\n",
       "      <td id=\"T_a77c3_row2_col1\" class=\"data row2 col1\" >Twenty students represent 1 - 3/4 = 1/4 of the students at that level. So, there are 4 x 20 students = <<4*20=80>>80 students at...</td>\n",
       "      <td id=\"T_a77c3_row2_col2\" class=\"data row2 col2\" >80</td>\n",
       "      <td id=\"T_a77c3_row2_col3\" class=\"data row2 col3\" >find the total number of students. First, we need to find the fraction of students who have desktop computers: 1 - 3/4 = 1/4. Now,...</td>\n",
       "      <td id=\"T_a77c3_row2_col4\" class=\"data row2 col4\" >80</td>\n",
       "      <td id=\"T_a77c3_row2_col5\" class=\"data row2 col5\" >✔️ [True]</td>\n",
       "    </tr>\n",
       "    <tr>\n",
       "      <th id=\"T_a77c3_level0_row3\" class=\"row_heading level0 row3\" >3</th>\n",
       "      <td id=\"T_a77c3_row3_col0\" class=\"data row3 col0\" >Comet Halley orbits the sun every 75 years. Bill's dad saw the Comet when he was 30 years old. Bill saw the comet a second...</td>\n",
       "      <td id=\"T_a77c3_row3_col1\" class=\"data row3 col1\" >Bill saw the Comet for the second time when he was 30 years * 3= <<30*3=90>>90 years old. Comet Halley can be seen every 75...</td>\n",
       "      <td id=\"T_a77c3_row3_col2\" class=\"data row3 col2\" >15</td>\n",
       "      <td id=\"T_a77c3_row3_col3\" class=\"data row3 col3\" >find Bill's age when he saw the Comet. First, we need to find the number of years that passed between the two sightings: 75 years...</td>\n",
       "      <td id=\"T_a77c3_row3_col4\" class=\"data row3 col4\" >90</td>\n",
       "      <td id=\"T_a77c3_row3_col5\" class=\"data row3 col5\" >False</td>\n",
       "    </tr>\n",
       "    <tr>\n",
       "      <th id=\"T_a77c3_level0_row4\" class=\"row_heading level0 row4\" >4</th>\n",
       "      <td id=\"T_a77c3_row4_col0\" class=\"data row4 col0\" >Tom plants 10 trees a year. Every year he also chops down 2 trees a year. He starts with 50 trees. After 10 years 30%...</td>\n",
       "      <td id=\"T_a77c3_row4_col1\" class=\"data row4 col1\" >He gets 10-2=<<10-2=8>>8 new trees a year After 10 years he has 8*10=<<8*10=80>>80 new trees So he had 80+50=<<80+50=130>>130 trees He lost 130*.3=<<130*.3=39>>39 trees That...</td>\n",
       "      <td id=\"T_a77c3_row4_col2\" class=\"data row4 col2\" >91</td>\n",
       "      <td id=\"T_a77c3_row4_col3\" class=\"data row4 col3\" >find out how many trees Tom has left. First, let's find out how many trees Tom plants in 10 years: 10 trees/year x 10 years...</td>\n",
       "      <td id=\"T_a77c3_row4_col4\" class=\"data row4 col4\" >91</td>\n",
       "      <td id=\"T_a77c3_row4_col5\" class=\"data row4 col5\" >✔️ [True]</td>\n",
       "    </tr>\n",
       "    <tr>\n",
       "      <th id=\"T_a77c3_level0_row5\" class=\"row_heading level0 row5\" >5</th>\n",
       "      <td id=\"T_a77c3_row5_col0\" class=\"data row5 col0\" >John picks 4 bananas on Wednesday. Then he picks 6 bananas on Thursday. On Friday, he picks triple the number of bananas he did on...</td>\n",
       "      <td id=\"T_a77c3_row5_col1\" class=\"data row5 col1\" >Combining Wednesday and Thursday, John has 4 bananas + 6 bananas = <<4+6=10>>10 bananas. On Friday, he picks 3 * 4 bananas = <<3*4=12>>12 bananas....</td>\n",
       "      <td id=\"T_a77c3_row5_col2\" class=\"data row5 col2\" >22</td>\n",
       "      <td id=\"T_a77c3_row5_col3\" class=\"data row5 col3\" >find the total number of bananas John has. First, let's find the number of bananas John picked on Friday: 4 x 3 = 12 bananas....</td>\n",
       "      <td id=\"T_a77c3_row5_col4\" class=\"data row5 col4\" >22</td>\n",
       "      <td id=\"T_a77c3_row5_col5\" class=\"data row5 col5\" >✔️ [True]</td>\n",
       "    </tr>\n",
       "    <tr>\n",
       "      <th id=\"T_a77c3_level0_row6\" class=\"row_heading level0 row6\" >6</th>\n",
       "      <td id=\"T_a77c3_row6_col0\" class=\"data row6 col0\" >Peyton scheduled after-work activities of a one hour yoga class on Monday, a cooking class that lasts three times as long as Monday’s yoga on...</td>\n",
       "      <td id=\"T_a77c3_row6_col1\" class=\"data row6 col1\" >Peyton’s cooking class will last 3 * 1 = <<3*1=3>>3 hours. The museum tour will take 3 / 2 = 1 1/2 hours. Peyton’s after-work...</td>\n",
       "      <td id=\"T_a77c3_row6_col2\" class=\"data row6 col2\" >8</td>\n",
       "      <td id=\"T_a77c3_row6_col3\" class=\"data row6 col3\" >calculate the total hours of Peyton's after-work activities. 1. **Yoga class (Monday):** 1 hour 2. **Cooking class (Tuesday):** 3 x 1 hour = 3 hours...</td>\n",
       "      <td id=\"T_a77c3_row6_col4\" class=\"data row6 col4\" >8</td>\n",
       "      <td id=\"T_a77c3_row6_col5\" class=\"data row6 col5\" >✔️ [True]</td>\n",
       "    </tr>\n",
       "    <tr>\n",
       "      <th id=\"T_a77c3_level0_row7\" class=\"row_heading level0 row7\" >7</th>\n",
       "      <td id=\"T_a77c3_row7_col0\" class=\"data row7 col0\" >Ben has 4 tubes of blue paint and 3 tubes of yellow paint. Jasper has half as many tubes of blue paint as Ben, and...</td>\n",
       "      <td id=\"T_a77c3_row7_col1\" class=\"data row7 col1\" >Jasper has 4/2= <<4/2=2>>2 tubes of blue paint Jasper has 3*3=<<3*3=9>>9 tubes of yellow paint Jasper has a total of 2+9 =<<2+9=11>>11 tubes of paint</td>\n",
       "      <td id=\"T_a77c3_row7_col2\" class=\"data row7 col2\" >11</td>\n",
       "      <td id=\"T_a77c3_row7_col3\" class=\"data row7 col3\" >find out how many tubes of paint Jasper has. First, let's find out how many tubes of blue paint Jasper has: 4 / 2 =...</td>\n",
       "      <td id=\"T_a77c3_row7_col4\" class=\"data row7 col4\" >11</td>\n",
       "      <td id=\"T_a77c3_row7_col5\" class=\"data row7 col5\" >✔️ [True]</td>\n",
       "    </tr>\n",
       "    <tr>\n",
       "      <th id=\"T_a77c3_level0_row8\" class=\"row_heading level0 row8\" >8</th>\n",
       "      <td id=\"T_a77c3_row8_col0\" class=\"data row8 col0\" >Elaina is holding the final concert in her tour. To celebrate her final concert, she makes the concert twice as long as her usual concerts....</td>\n",
       "      <td id=\"T_a77c3_row8_col1\" class=\"data row8 col1\" >The concert, minus the encore, lasted for 65-minute concert – 15-minute encore = <<65-15=50>>50 minutes. This is twice as long as her usual concerts so...</td>\n",
       "      <td id=\"T_a77c3_row8_col2\" class=\"data row8 col2\" >25</td>\n",
       "      <td id=\"T_a77c3_row8_col3\" class=\"data row8 col3\" >find the runtime of Elaina's usual concerts. First, we need to subtract the encore's runtime from the total runtime of the final concert: 65 -...</td>\n",
       "      <td id=\"T_a77c3_row8_col4\" class=\"data row8 col4\" >25</td>\n",
       "      <td id=\"T_a77c3_row8_col5\" class=\"data row8 col5\" >✔️ [True]</td>\n",
       "    </tr>\n",
       "    <tr>\n",
       "      <th id=\"T_a77c3_level0_row9\" class=\"row_heading level0 row9\" >9</th>\n",
       "      <td id=\"T_a77c3_row9_col0\" class=\"data row9 col0\" >Hannah slips on a banana peel and breaks her arm. The doctor charges her $200 for the cast, $300/hour for a 30-minute visit, $4/pill for...</td>\n",
       "      <td id=\"T_a77c3_row9_col1\" class=\"data row9 col1\" >First find the length of the visit in hours: 30 minutes / 60 minutes/hour = <<30/60=.5>>.5 hours Then find the total cost of the visit:...</td>\n",
       "      <td id=\"T_a77c3_row9_col2\" class=\"data row9 col2\" >482</td>\n",
       "      <td id=\"T_a77c3_row9_col3\" class=\"data row9 col3\" >calculate the total cost of the doctor's visit. First, we need to find the cost of the visit: $300/hour x 0.5 hours = $150. Next,...</td>\n",
       "      <td id=\"T_a77c3_row9_col4\" class=\"data row9 col4\" >$482</td>\n",
       "      <td id=\"T_a77c3_row9_col5\" class=\"data row9 col5\" >✔️ [True]</td>\n",
       "    </tr>\n",
       "    <tr>\n",
       "      <th id=\"T_a77c3_level0_row10\" class=\"row_heading level0 row10\" >10</th>\n",
       "      <td id=\"T_a77c3_row10_col0\" class=\"data row10 col0\" >A loaf of bread at the bakery costs $2. Bagels cost $1 each. How much more do 3 loaves of bread cost than 2 bagels?</td>\n",
       "      <td id=\"T_a77c3_row10_col1\" class=\"data row10 col1\" >3 loaves of bread cost 3 * $2 = $<<3*2=6>>6. 2 bagels cost 2 * $1 = $<<2*1=2>>2. The loaves of bread cost $6 -...</td>\n",
       "      <td id=\"T_a77c3_row10_col2\" class=\"data row10 col2\" >4</td>\n",
       "      <td id=\"T_a77c3_row10_col3\" class=\"data row10 col3\" >find the difference in cost. First, find the total cost of 3 loaves of bread: $2 x 3 = $6. Next, find the total cost...</td>\n",
       "      <td id=\"T_a77c3_row10_col4\" class=\"data row10 col4\" >$4</td>\n",
       "      <td id=\"T_a77c3_row10_col5\" class=\"data row10 col5\" >✔️ [True]</td>\n",
       "    </tr>\n",
       "    <tr>\n",
       "      <th id=\"T_a77c3_level0_row11\" class=\"row_heading level0 row11\" >11</th>\n",
       "      <td id=\"T_a77c3_row11_col0\" class=\"data row11 col0\" >Bob thinks he needs 56 popsicle sticks to recreate the Washington Monument for his history project. His favorite popsicles come 8 to a box and...</td>\n",
       "      <td id=\"T_a77c3_row11_col1\" class=\"data row11 col1\" >He needs 56 popsicle sticks to build his project and they come 8 to a box so he needs 56/8 = <<56/8=7>>7 boxes Each box...</td>\n",
       "      <td id=\"T_a77c3_row11_col2\" class=\"data row11 col2\" >14</td>\n",
       "      <td id=\"T_a77c3_row11_col3\" class=\"data row11 col3\" >calculate the cost of the project. First, we need to find out how many boxes of popsicles Bob needs: 56 popsicle sticks / 8 popsicles/box...</td>\n",
       "      <td id=\"T_a77c3_row11_col4\" class=\"data row11 col4\" >$14.00</td>\n",
       "      <td id=\"T_a77c3_row11_col5\" class=\"data row11 col5\" >✔️ [True]</td>\n",
       "    </tr>\n",
       "    <tr>\n",
       "      <th id=\"T_a77c3_level0_row12\" class=\"row_heading level0 row12\" >12</th>\n",
       "      <td id=\"T_a77c3_row12_col0\" class=\"data row12 col0\" >Dennis uses 1 pound of butter for every dozen croissants that he makes. He needs to make 6 dozen croissants. The grocery store currently has...</td>\n",
       "      <td id=\"T_a77c3_row12_col1\" class=\"data row12 col1\" >1 pound of butter makes 1 dozen croissants and he needs to make 6 dozen so he needs 1*6 = <<1*6=6>>6 pounds of butter The...</td>\n",
       "      <td id=\"T_a77c3_row12_col2\" class=\"data row12 col2\" >18</td>\n",
       "      <td id=\"T_a77c3_row12_col3\" class=\"data row12 col3\" >calculate the cost of purchasing 6 pounds of butter. First, we need to find the cost of 1 pound of butter: $4.00. Since the promotion...</td>\n",
       "      <td id=\"T_a77c3_row12_col4\" class=\"data row12 col4\" >$18.00</td>\n",
       "      <td id=\"T_a77c3_row12_col5\" class=\"data row12 col5\" >✔️ [True]</td>\n",
       "    </tr>\n",
       "    <tr>\n",
       "      <th id=\"T_a77c3_level0_row13\" class=\"row_heading level0 row13\" >13</th>\n",
       "      <td id=\"T_a77c3_row13_col0\" class=\"data row13 col0\" >Regina wrote 9 novels last year. If this is 3 quarters of the number of novels she has written this year, how many novels has...</td>\n",
       "      <td id=\"T_a77c3_row13_col1\" class=\"data row13 col1\" >Number of novels she wrote last year = (3/4)*number of novels she wrote this year 9 = (3/4)*number of novels she wrote this year Multiplying...</td>\n",
       "      <td id=\"T_a77c3_row13_col2\" class=\"data row13 col2\" >12</td>\n",
       "      <td id=\"T_a77c3_row13_col3\" class=\"data row13 col3\" >find the number of novels Regina has written this year. Since 9 novels represent 3 quarters of the total, we can set up a proportion:...</td>\n",
       "      <td id=\"T_a77c3_row13_col4\" class=\"data row13 col4\" >12</td>\n",
       "      <td id=\"T_a77c3_row13_col5\" class=\"data row13 col5\" >✔️ [True]</td>\n",
       "    </tr>\n",
       "    <tr>\n",
       "      <th id=\"T_a77c3_level0_row14\" class=\"row_heading level0 row14\" >14</th>\n",
       "      <td id=\"T_a77c3_row14_col0\" class=\"data row14 col0\" >Alex is getting ready to attend an event that she has hosted and wants to make sure that she has enough seats for everyone. She...</td>\n",
       "      <td id=\"T_a77c3_row14_col1\" class=\"data row14 col1\" >Each of the people that were emailed are bringing 2 friends, which means that they will be in groups of 1 +2 = <<1+2=3>>3 people....</td>\n",
       "      <td id=\"T_a77c3_row14_col2\" class=\"data row14 col2\" >319</td>\n",
       "      <td id=\"T_a77c3_row14_col3\" class=\"data row14 col3\" >find out how many seats Alex will need. First, let's find out how many people will be coming from the email invitations: 100 people x...</td>\n",
       "      <td id=\"T_a77c3_row14_col4\" class=\"data row14 col4\" >318</td>\n",
       "      <td id=\"T_a77c3_row14_col5\" class=\"data row14 col5\" >False</td>\n",
       "    </tr>\n",
       "    <tr>\n",
       "      <th id=\"T_a77c3_level0_row15\" class=\"row_heading level0 row15\" >15</th>\n",
       "      <td id=\"T_a77c3_row15_col0\" class=\"data row15 col0\" >Rozanne is making eggnog for her family. She uses 4 dozen eggs that were in cases and another 2 eggs that were loose in the...</td>\n",
       "      <td id=\"T_a77c3_row15_col1\" class=\"data row15 col1\" >As a dozen is equivalent to 12 eggs, Rozanne has 4 dozen eggs * 12 = <<4*12=48>>48 eggs in cases. She therefore has a total...</td>\n",
       "      <td id=\"T_a77c3_row15_col2\" class=\"data row15 col2\" >2</td>\n",
       "      <td id=\"T_a77c3_row15_col3\" class=\"data row15 col3\" >find out how many trays Rozanne can put out. First, let's find out how many eggs Rozanne has in total: 4 dozen eggs = 4...</td>\n",
       "      <td id=\"T_a77c3_row15_col4\" class=\"data row15 col4\" >2</td>\n",
       "      <td id=\"T_a77c3_row15_col5\" class=\"data row15 col5\" >✔️ [True]</td>\n",
       "    </tr>\n",
       "    <tr>\n",
       "      <th id=\"T_a77c3_level0_row16\" class=\"row_heading level0 row16\" >16</th>\n",
       "      <td id=\"T_a77c3_row16_col0\" class=\"data row16 col0\" >Matthew has a collection of 12 unique toy soldiers. He wants to sell them for a fair price. He found a buyer who is willing...</td>\n",
       "      <td id=\"T_a77c3_row16_col1\" class=\"data row16 col1\" >Half of Matthew collection means 12 * 0.5 = <<12*0.5=6>>6 toy soldiers. A buyer wants to buy 6 toy soldiers for $5, so he would...</td>\n",
       "      <td id=\"T_a77c3_row16_col2\" class=\"data row16 col2\" >72</td>\n",
       "      <td id=\"T_a77c3_row16_col3\" class=\"data row16 col3\" >calculate the total amount of money Matthew would earn. First, let's find the amount he would earn from selling half of his collection at $5...</td>\n",
       "      <td id=\"T_a77c3_row16_col4\" class=\"data row16 col4\" >$72</td>\n",
       "      <td id=\"T_a77c3_row16_col5\" class=\"data row16 col5\" >✔️ [True]</td>\n",
       "    </tr>\n",
       "    <tr>\n",
       "      <th id=\"T_a77c3_level0_row17\" class=\"row_heading level0 row17\" >17</th>\n",
       "      <td id=\"T_a77c3_row17_col0\" class=\"data row17 col0\" >Mrs. Cruz is looking for a house that will not go beyond her $400 000 budget. She saw a property that has a selling price...</td>\n",
       "      <td id=\"T_a77c3_row17_col1\" class=\"data row17 col1\" >The brokerage fee is $350 000 x 5/100 = $<<350000*5/100=17500>>17500. The transfer fee is $350 000 x 12/100 = $<<350000*12/100=42000>>42000. The total price of the...</td>\n",
       "      <td id=\"T_a77c3_row17_col2\" class=\"data row17 col2\" >9500</td>\n",
       "      <td id=\"T_a77c3_row17_col3\" class=\"data row17 col3\" >find out how much more the total price of the house is than Mrs. Cruz's budget. First, let's calculate the brokerage fee: 5% x $350,000...</td>\n",
       "      <td id=\"T_a77c3_row17_col4\" class=\"data row17 col4\" >$9,500</td>\n",
       "      <td id=\"T_a77c3_row17_col5\" class=\"data row17 col5\" >✔️ [True]</td>\n",
       "    </tr>\n",
       "    <tr>\n",
       "      <th id=\"T_a77c3_level0_row18\" class=\"row_heading level0 row18\" >18</th>\n",
       "      <td id=\"T_a77c3_row18_col0\" class=\"data row18 col0\" >Juan and his brother Carlos are selling lemonade. For each gallon they make it costs $3 for lemons and $2 for sugar. They sell each...</td>\n",
       "      <td id=\"T_a77c3_row18_col1\" class=\"data row18 col1\" >Each gallon sells for a total of $10 because 20 x .5 = <<20*.5=10>>10 Each gallon costs $5 to make because 3 + 2 =...</td>\n",
       "      <td id=\"T_a77c3_row18_col2\" class=\"data row18 col2\" >15</td>\n",
       "      <td id=\"T_a77c3_row18_col3\" class=\"data row18 col3\" >find out how much they spent on lemons. First, let's find out how much they spent on each gallon: $3 for lemons + $2 for...</td>\n",
       "      <td id=\"T_a77c3_row18_col4\" class=\"data row18 col4\" >$15</td>\n",
       "      <td id=\"T_a77c3_row18_col5\" class=\"data row18 col5\" >✔️ [True]</td>\n",
       "    </tr>\n",
       "    <tr>\n",
       "      <th id=\"T_a77c3_level0_row19\" class=\"row_heading level0 row19\" >19</th>\n",
       "      <td id=\"T_a77c3_row19_col0\" class=\"data row19 col0\" >When the water is cold Ray swims a mile in 16 minutes. When the water is warm Ray swims a mile in 2 minutes more...</td>\n",
       "      <td id=\"T_a77c3_row19_col1\" class=\"data row19 col1\" >Cold water mile = <<16=16>>16 minutes Warm water mile = 2+2(16)=34 minutes 3 miles in cold water: 3(16)=<<3*16=48>>48 minutes 3 miles in warm water: 3(34)=<<3*34=102>>102...</td>\n",
       "      <td id=\"T_a77c3_row19_col2\" class=\"data row19 col2\" >54</td>\n",
       "      <td id=\"T_a77c3_row19_col3\" class=\"data row19 col3\" >find the difference in time it takes Ray to swim 3 miles on a hot day compared to a cold day. First, let's find out...</td>\n",
       "      <td id=\"T_a77c3_row19_col4\" class=\"data row19 col4\" >54</td>\n",
       "      <td id=\"T_a77c3_row19_col5\" class=\"data row19 col5\" >✔️ [True]</td>\n",
       "    </tr>\n",
       "  </tbody>\n",
       "</table>\n"
      ],
      "text/plain": [
       "<pandas.io.formats.style.Styler at 0x31c26cc90>"
      ]
     },
     "metadata": {},
     "output_type": "display_data"
    },
    {
     "data": {
      "text/plain": [
       "90.0"
      ]
     },
     "execution_count": 104,
     "metadata": {},
     "output_type": "execute_result"
    }
   ],
   "source": [
    "evaluate(cot_fewshot)"
   ]
  },
  {
   "cell_type": "markdown",
   "metadata": {},
   "source": [
    "Nice, this improved Gemini Pro's performance significantly from 35% :)"
   ]
  },
  {
   "cell_type": "code",
   "execution_count": 106,
   "metadata": {},
   "outputs": [
    {
     "name": "stdout",
     "output_type": "stream",
     "text": [
      "\n",
      "\n",
      "\n",
      "\n",
      "Answer math problems with numbers or short phrases.\n",
      "\n",
      "---\n",
      "\n",
      "Follow the following format.\n",
      "\n",
      "Question: ${question}\n",
      "Reasoning: Let's think step by step in order to ${produce the answer}. We ...\n",
      "Answer: Usually a number or short phrase.\n",
      "\n",
      "---\n",
      "\n",
      "Question: A tank contains 6000 liters of water, 2000 liters evaporated, and then 3500 liters were drained by Bob. How many liters are in the tank if it now rains for 30 minutes and every 10 minutes 350 liters of rain are added to the tank?\n",
      "Reasoning: Let's think step by step in order to find the total amount of water in the tank. First, 2000 liters evaporated from the initial 6000 liters, leaving 6000 - 2000 = 4000 liters. Next, Bob drained 3500 liters, resulting in 4000 - 3500 = 500 liters. Since it rained for 30 minutes, and 350 liters are added every 10 minutes, a total of 350 x 3 = 1050 liters were added. Therefore, the final amount of water in the tank is 500 + 1050 = 1550 liters.\n",
      "Answer: 1550\n",
      "\n",
      "---\n",
      "\n",
      "Question: Louise is baking cakes for a gathering. She needs 60 cakes in total, and has already produced half this many. Today, she calculates how many cakes she has left to make and bakes half this amount. The next day, she again calculates how many cakes she has left to make and bakes a third of this amount. How many more cakes does Louise need to bake?\n",
      "Reasoning: Let's think step by step in order to determine the number of cakes Louise still needs to bake. 1. **Initial cakes needed:** 60 cakes 2. **Cakes already baked:** 60 / 2 = 30 cakes 3. **Cakes left after day 1:** 60 - 30 = 30 cakes 4. **Cakes baked on day 2:** 30 / 2 = 15 cakes 5. **Cakes left after day 2:** 30 - 15 = 15 cakes 6. **Cakes baked on day 3:** 15 / 3 = 5 cakes 7. **Cakes still needed:** 15 - 5 = 10 cakes\n",
      "Answer: 10\n",
      "\n",
      "---\n",
      "\n",
      "Question: Kendra tracks the different species of birds they spot on their birdwatching trip. On Monday they visited 5 sites and saw an average of 7 birds at each site. On Tuesday, Kendra visited 5 sites and saw an average of 5 birds at each site. On Wednesday visited 10 sites and saw an average of 8 birds at each site. On average, how many different birds did Kendra see on each site?\n",
      "Reasoning: Let's think step by step in order to calculate the total number of birds seen and then divide by the total number of sites visited. **Step 1: Calculate total birds seen on Monday:** 5 sites x 7 birds/site = 35 birds **Step 2: Calculate total birds seen on Tuesday:** 5 sites x 5 birds/site = 25 birds **Step 3: Calculate total birds seen on Wednesday:** 10 sites x 8 birds/site = 80 birds **Step 4: Calculate total birds seen:** 35 + 25 + 80 = 140 birds **Step 5: Calculate total sites visited:** 5 + 5 + 10 = 20 sites **Step 6: Calculate average birds per site:** 140 birds / 20 sites = 7 birds/site\n",
      "Answer: 7\n",
      "\n",
      "---\n",
      "\n",
      "Question: Central Park had 8 more than half of the number of trash cans as in Veteran's Park. Then one night, someone took half of the trash cans from Central Park and put them in Veteran's Park. If originally there were 24 trash cans in Veteran's Park, how many trash cans are now in Veteran's Park?\n",
      "Reasoning: Let's think step by step in order to find the number of trash cans in Veteran's Park after the redistribution. 1. **Calculate half the number of trash cans in Veteran's Park:** 24 / 2 = 12 trash cans. 2. **Add 8 to represent the extra trash cans in Central Park:** 12 + 8 = 20 trash cans. 3. **Divide by 2 to find the number taken from Central Park:** 20 / 2 = 10 trash cans. 4. **Add the 10 trash cans to Veteran's Park:** 24 + 10 = 34 trash cans.\n",
      "Answer: 34\n",
      "\n",
      "---\n",
      "\n",
      "Question: Mr Julien's store has 400 marbles remaining after the previous day's sales. Twenty customers came into the store, and each bought 15 marbles. How many marbles remain in the store?\n",
      "Reasoning: Let's think step by step in order to determine the number of marbles remaining. First, we need to find the total number of marbles purchased by the customers by multiplying the number of customers by the number of marbles each bought: 20 customers x 15 marbles/customer = 300 marbles. Now, to find the remaining marbles, we subtract the purchased marbles from the initial amount: 400 marbles - 300 marbles = 100 marbles.\n",
      "Answer: 100\n",
      "\n",
      "---\n",
      "\n",
      "Question: The average score on last week's Spanish test was 90. Marco scored 10% less than the average test score and Margaret received 5 more points than Marco. What score did Margaret receive on her test?\n",
      "Reasoning: Let's think step by step in order to find Margaret's score. First, find Marco's score by subtracting 10% of the average from the average: 90 - (0.10 x 90) = 81. Now, add 5 points to Marco's score to find Margaret's score: 81 + 5 = 86.\n",
      "Answer: 86\n",
      "\n",
      "---\n",
      "\n",
      "Question: Nancy bought a pie sliced it into 8 pieces. She gave 1/2 to Joe and Darcy, and she gave 1/4 to Carl. How many slices were left?\n",
      "Reasoning: Let's think step by step in order to find out how many slices were left. First, let's find out how many slices Joe and Darcy received: 1/2 x 8 = 4 slices. Next, let's find out how many slices Carl received: 1/4 x 8 = 2 slices. Now, let's add the slices given away: 4 + 2 = 6 slices. Finally, subtract the slices given away from the total to find the remaining slices: 8 - 6 = 2 slices.\n",
      "Answer: 2\n",
      "\n",
      "---\n",
      "\n",
      "Question: When the water is cold Ray swims a mile in 16 minutes. When the water is warm Ray swims a mile in 2 minutes more than twice as long. How much longer does Ray take to swim 3 miles on a hot day than a cold day?\n",
      "Reasoning: Let's think step by step in order to\u001b[32mfind the difference in time it takes Ray to swim 3 miles on a hot day compared to a cold day. First, let's find out how long it takes Ray to swim a mile in warm water: 2 minutes + (2 x 16 minutes) = 34 minutes. Now, let's find out how long it takes Ray to swim 3 miles in warm water: 34 minutes x 3 = 102 minutes. Next, let's find out how long it takes Ray to swim 3 miles in cold water: 16 minutes x 3 = 48 minutes. Finally, let's find the difference in time: 102 minutes - 48 minutes = 54 minutes.\n",
      "Answer: 54\u001b[0m\n",
      "\n",
      "\n",
      "\n"
     ]
    }
   ],
   "source": [
    "dspy_gemini_pro.inspect_history(n=1)"
   ]
  },
  {
   "cell_type": "code",
   "execution_count": null,
   "metadata": {},
   "outputs": [],
   "source": []
  }
 ],
 "metadata": {
  "kernelspec": {
   "display_name": "venv-ape",
   "language": "python",
   "name": "python3"
  },
  "language_info": {
   "codemirror_mode": {
    "name": "ipython",
    "version": 3
   },
   "file_extension": ".py",
   "mimetype": "text/x-python",
   "name": "python",
   "nbconvert_exporter": "python",
   "pygments_lexer": "ipython3",
   "version": "3.11.7"
  }
 },
 "nbformat": 4,
 "nbformat_minor": 2
}
